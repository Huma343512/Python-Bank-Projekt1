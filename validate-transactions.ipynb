{
 "cells": [
  {
   "cell_type": "code",
   "execution_count": 16,
   "id": "4392b2e2",
   "metadata": {},
   "outputs": [
    {
     "name": "stderr",
     "output_type": "stream",
     "text": [
      "Error while processing DataContextConfig: datasources notebooks validations_store_name evaluation_parameter_store_name include_rendered_content anonymous_usage_statistics\n",
      "Encountered errors during loading config.  See ValidationError for more details.\n"
     ]
    },
    {
     "ename": "InvalidDataContextConfigError",
     "evalue": "Error while processing DataContextConfig: datasources notebooks validations_store_name evaluation_parameter_store_name include_rendered_content anonymous_usage_statistics",
     "output_type": "error",
     "traceback": [
      "\u001B[31m---------------------------------------------------------------------------\u001B[39m",
      "\u001B[31mInvalidDataContextConfigError\u001B[39m             Traceback (most recent call last)",
      "\u001B[36mCell\u001B[39m\u001B[36m \u001B[39m\u001B[32mIn[16]\u001B[39m\u001B[32m, line 8\u001B[39m\n\u001B[32m      5\u001B[39m df = pd.read_csv(\u001B[33m\"\u001B[39m\u001B[33mdata/transactions.csv\u001B[39m\u001B[33m\"\u001B[39m)\n\u001B[32m      7\u001B[39m \u001B[38;5;66;03m# === 2. جلب السياق (يجب أن يكون لديك مجلد great_expectations في المشروع)\u001B[39;00m\n\u001B[32m----> \u001B[39m\u001B[32m8\u001B[39m context = \u001B[43mgx\u001B[49m\u001B[43m.\u001B[49m\u001B[43mget_context\u001B[49m\u001B[43m(\u001B[49m\u001B[43m)\u001B[49m\n\u001B[32m     10\u001B[39m \u001B[38;5;66;03m# === 3. إنشاء Datasource من نوع Pandas\u001B[39;00m\n\u001B[32m     11\u001B[39m ds = context.sources.add_pandas(name=\u001B[33m\"\u001B[39m\u001B[33mmy_pandas_ds\u001B[39m\u001B[33m\"\u001B[39m)\n",
      "\u001B[36mFile \u001B[39m\u001B[32mc:\\Users\\46722\\Desktop\\python-bank-projekt\\venv311\\Lib\\site-packages\\great_expectations\\data_context\\data_context\\context_factory.py:593\u001B[39m, in \u001B[36mget_context\u001B[39m\u001B[34m(project_config, context_root_dir, project_root_dir, runtime_environment, cloud_base_url, cloud_access_token, cloud_organization_id, cloud_mode, user_agent_str, mode)\u001B[39m\n\u001B[32m    508\u001B[39m \u001B[38;5;129m@public_api\u001B[39m\n\u001B[32m    509\u001B[39m \u001B[38;5;28;01mdef\u001B[39;00m\u001B[38;5;250m \u001B[39m\u001B[34mget_context\u001B[39m(  \u001B[38;5;66;03m# noqa: PLR0913 # FIXME CoP\u001B[39;00m\n\u001B[32m    510\u001B[39m     project_config: DataContextConfig | Mapping | \u001B[38;5;28;01mNone\u001B[39;00m = \u001B[38;5;28;01mNone\u001B[39;00m,\n\u001B[32m   (...)\u001B[39m\u001B[32m    519\u001B[39m     mode: ContextModes | \u001B[38;5;28;01mNone\u001B[39;00m = \u001B[38;5;28;01mNone\u001B[39;00m,\n\u001B[32m    520\u001B[39m ) -> AbstractDataContext:\n\u001B[32m    521\u001B[39m \u001B[38;5;250m    \u001B[39m\u001B[33;03m\"\"\"Method to return the appropriate Data Context depending on parameters and environment.\u001B[39;00m\n\u001B[32m    522\u001B[39m \n\u001B[32m    523\u001B[39m \u001B[33;03m    Usage:\u001B[39;00m\n\u001B[32m   (...)\u001B[39m\u001B[32m    591\u001B[39m \u001B[33;03m        GXCloudConfigurationError: Cloud mode enabled, but missing configuration.\u001B[39;00m\n\u001B[32m    592\u001B[39m \u001B[33;03m    \"\"\"\u001B[39;00m  \u001B[38;5;66;03m# noqa: E501 # FIXME CoP\u001B[39;00m\n\u001B[32m--> \u001B[39m\u001B[32m593\u001B[39m     \u001B[38;5;28;01mreturn\u001B[39;00m \u001B[43mproject_manager\u001B[49m\u001B[43m.\u001B[49m\u001B[43mget_project\u001B[49m\u001B[43m(\u001B[49m\n\u001B[32m    594\u001B[39m \u001B[43m        \u001B[49m\u001B[43mproject_config\u001B[49m\u001B[43m=\u001B[49m\u001B[43mproject_config\u001B[49m\u001B[43m,\u001B[49m\n\u001B[32m    595\u001B[39m \u001B[43m        \u001B[49m\u001B[43mcontext_root_dir\u001B[49m\u001B[43m=\u001B[49m\u001B[43mcontext_root_dir\u001B[49m\u001B[43m,\u001B[49m\n\u001B[32m    596\u001B[39m \u001B[43m        \u001B[49m\u001B[43mproject_root_dir\u001B[49m\u001B[43m=\u001B[49m\u001B[43mproject_root_dir\u001B[49m\u001B[43m,\u001B[49m\n\u001B[32m    597\u001B[39m \u001B[43m        \u001B[49m\u001B[43mruntime_environment\u001B[49m\u001B[43m=\u001B[49m\u001B[43mruntime_environment\u001B[49m\u001B[43m,\u001B[49m\n\u001B[32m    598\u001B[39m \u001B[43m        \u001B[49m\u001B[43mcloud_base_url\u001B[49m\u001B[43m=\u001B[49m\u001B[43mcloud_base_url\u001B[49m\u001B[43m,\u001B[49m\n\u001B[32m    599\u001B[39m \u001B[43m        \u001B[49m\u001B[43mcloud_access_token\u001B[49m\u001B[43m=\u001B[49m\u001B[43mcloud_access_token\u001B[49m\u001B[43m,\u001B[49m\n\u001B[32m    600\u001B[39m \u001B[43m        \u001B[49m\u001B[43mcloud_organization_id\u001B[49m\u001B[43m=\u001B[49m\u001B[43mcloud_organization_id\u001B[49m\u001B[43m,\u001B[49m\n\u001B[32m    601\u001B[39m \u001B[43m        \u001B[49m\u001B[43mcloud_mode\u001B[49m\u001B[43m=\u001B[49m\u001B[43mcloud_mode\u001B[49m\u001B[43m,\u001B[49m\n\u001B[32m    602\u001B[39m \u001B[43m        \u001B[49m\u001B[43muser_agent_str\u001B[49m\u001B[43m=\u001B[49m\u001B[43muser_agent_str\u001B[49m\u001B[43m,\u001B[49m\n\u001B[32m    603\u001B[39m \u001B[43m        \u001B[49m\u001B[43mmode\u001B[49m\u001B[43m=\u001B[49m\u001B[43mmode\u001B[49m\u001B[43m,\u001B[49m\n\u001B[32m    604\u001B[39m \u001B[43m    \u001B[49m\u001B[43m)\u001B[49m\n",
      "\u001B[36mFile \u001B[39m\u001B[32mc:\\Users\\46722\\Desktop\\python-bank-projekt\\venv311\\Lib\\site-packages\\great_expectations\\data_context\\data_context\\context_factory.py:77\u001B[39m, in \u001B[36mProjectManager.get_project\u001B[39m\u001B[34m(self, project_config, context_root_dir, project_root_dir, runtime_environment, cloud_base_url, cloud_access_token, cloud_organization_id, cloud_mode, user_agent_str, mode)\u001B[39m\n\u001B[32m     64\u001B[39m \u001B[38;5;28;01mdef\u001B[39;00m\u001B[38;5;250m \u001B[39m\u001B[34mget_project\u001B[39m(  \u001B[38;5;66;03m# noqa: PLR0913 # FIXME CoP\u001B[39;00m\n\u001B[32m     65\u001B[39m     \u001B[38;5;28mself\u001B[39m,\n\u001B[32m     66\u001B[39m     project_config: DataContextConfig | Mapping | \u001B[38;5;28;01mNone\u001B[39;00m = \u001B[38;5;28;01mNone\u001B[39;00m,\n\u001B[32m   (...)\u001B[39m\u001B[32m     75\u001B[39m     mode: ContextModes | \u001B[38;5;28;01mNone\u001B[39;00m = \u001B[38;5;28;01mNone\u001B[39;00m,\n\u001B[32m     76\u001B[39m ) -> AbstractDataContext:\n\u001B[32m---> \u001B[39m\u001B[32m77\u001B[39m     \u001B[38;5;28mself\u001B[39m.__project = \u001B[38;5;28;43mself\u001B[39;49m\u001B[43m.\u001B[49m\u001B[43m_build_context\u001B[49m\u001B[43m(\u001B[49m\n\u001B[32m     78\u001B[39m \u001B[43m        \u001B[49m\u001B[43mproject_config\u001B[49m\u001B[43m=\u001B[49m\u001B[43mproject_config\u001B[49m\u001B[43m,\u001B[49m\n\u001B[32m     79\u001B[39m \u001B[43m        \u001B[49m\u001B[43mcontext_root_dir\u001B[49m\u001B[43m=\u001B[49m\u001B[43mcontext_root_dir\u001B[49m\u001B[43m,\u001B[49m\n\u001B[32m     80\u001B[39m \u001B[43m        \u001B[49m\u001B[43mproject_root_dir\u001B[49m\u001B[43m=\u001B[49m\u001B[43mproject_root_dir\u001B[49m\u001B[43m,\u001B[49m\n\u001B[32m     81\u001B[39m \u001B[43m        \u001B[49m\u001B[43mruntime_environment\u001B[49m\u001B[43m=\u001B[49m\u001B[43mruntime_environment\u001B[49m\u001B[43m,\u001B[49m\n\u001B[32m     82\u001B[39m \u001B[43m        \u001B[49m\u001B[43mcloud_base_url\u001B[49m\u001B[43m=\u001B[49m\u001B[43mcloud_base_url\u001B[49m\u001B[43m,\u001B[49m\n\u001B[32m     83\u001B[39m \u001B[43m        \u001B[49m\u001B[43mcloud_access_token\u001B[49m\u001B[43m=\u001B[49m\u001B[43mcloud_access_token\u001B[49m\u001B[43m,\u001B[49m\n\u001B[32m     84\u001B[39m \u001B[43m        \u001B[49m\u001B[43mcloud_organization_id\u001B[49m\u001B[43m=\u001B[49m\u001B[43mcloud_organization_id\u001B[49m\u001B[43m,\u001B[49m\n\u001B[32m     85\u001B[39m \u001B[43m        \u001B[49m\u001B[43mcloud_mode\u001B[49m\u001B[43m=\u001B[49m\u001B[43mcloud_mode\u001B[49m\u001B[43m,\u001B[49m\n\u001B[32m     86\u001B[39m \u001B[43m        \u001B[49m\u001B[43muser_agent_str\u001B[49m\u001B[43m=\u001B[49m\u001B[43muser_agent_str\u001B[49m\u001B[43m,\u001B[49m\n\u001B[32m     87\u001B[39m \u001B[43m        \u001B[49m\u001B[43mmode\u001B[49m\u001B[43m=\u001B[49m\u001B[43mmode\u001B[49m\u001B[43m,\u001B[49m\n\u001B[32m     88\u001B[39m \u001B[43m    \u001B[49m\u001B[43m)\u001B[49m\n\u001B[32m     89\u001B[39m     \u001B[38;5;28;01mreturn\u001B[39;00m \u001B[38;5;28mself\u001B[39m.__project\n",
      "\u001B[36mFile \u001B[39m\u001B[32mc:\\Users\\46722\\Desktop\\python-bank-projekt\\venv311\\Lib\\site-packages\\great_expectations\\data_context\\data_context\\context_factory.py:248\u001B[39m, in \u001B[36mProjectManager._build_context\u001B[39m\u001B[34m(self, project_config, context_root_dir, project_root_dir, runtime_environment, cloud_base_url, cloud_access_token, cloud_organization_id, cloud_mode, user_agent_str, mode)\u001B[39m\n\u001B[32m    240\u001B[39m context_fn_map: \u001B[38;5;28mdict\u001B[39m[ContextModes | \u001B[38;5;28;01mNone\u001B[39;00m, Callable] = {\n\u001B[32m    241\u001B[39m     \u001B[33m\"\u001B[39m\u001B[33mephemeral\u001B[39m\u001B[33m\"\u001B[39m: \u001B[38;5;28mself\u001B[39m._get_ephemeral_context,\n\u001B[32m    242\u001B[39m     \u001B[33m\"\u001B[39m\u001B[33mfile\u001B[39m\u001B[33m\"\u001B[39m: \u001B[38;5;28mself\u001B[39m._get_file_context,\n\u001B[32m    243\u001B[39m     \u001B[33m\"\u001B[39m\u001B[33mcloud\u001B[39m\u001B[33m\"\u001B[39m: \u001B[38;5;28mself\u001B[39m._get_cloud_context,\n\u001B[32m    244\u001B[39m     \u001B[38;5;28;01mNone\u001B[39;00m: \u001B[38;5;28mself\u001B[39m._get_default_context,\n\u001B[32m    245\u001B[39m }\n\u001B[32m    247\u001B[39m context_fn = context_fn_map[mode]\n\u001B[32m--> \u001B[39m\u001B[32m248\u001B[39m context = \u001B[43mcontext_fn\u001B[49m\u001B[43m(\u001B[49m\u001B[43m*\u001B[49m\u001B[43m*\u001B[49m\u001B[43mkwargs\u001B[49m\u001B[43m)\u001B[49m\n\u001B[32m    250\u001B[39m expected_type = expected_ctx_types[mode]\n\u001B[32m    251\u001B[39m \u001B[38;5;28;01mif\u001B[39;00m \u001B[38;5;129;01mnot\u001B[39;00m \u001B[38;5;28misinstance\u001B[39m(context, expected_type):\n\u001B[32m    252\u001B[39m     \u001B[38;5;66;03m# example I want an ephemeral context but the presence of a GX_CLOUD env var gives me a cloud context  # noqa: E501 # FIXME CoP\u001B[39;00m\n",
      "\u001B[36mFile \u001B[39m\u001B[32mc:\\Users\\46722\\Desktop\\python-bank-projekt\\venv311\\Lib\\site-packages\\great_expectations\\data_context\\data_context\\context_factory.py:291\u001B[39m, in \u001B[36mProjectManager._get_default_context\u001B[39m\u001B[34m(self, project_config, context_root_dir, project_root_dir, runtime_environment, cloud_base_url, cloud_access_token, cloud_organization_id, user_agent_str, cloud_mode, mode)\u001B[39m\n\u001B[32m    288\u001B[39m     \u001B[38;5;28;01mreturn\u001B[39;00m cloud_context\n\u001B[32m    290\u001B[39m \u001B[38;5;66;03m# Second, check for a context_root_dir to determine if using a filesystem\u001B[39;00m\n\u001B[32m--> \u001B[39m\u001B[32m291\u001B[39m file_context = \u001B[38;5;28;43mself\u001B[39;49m\u001B[43m.\u001B[49m\u001B[43m_get_file_context\u001B[49m\u001B[43m(\u001B[49m\n\u001B[32m    292\u001B[39m \u001B[43m    \u001B[49m\u001B[43mproject_config\u001B[49m\u001B[43m=\u001B[49m\u001B[43mproject_config\u001B[49m\u001B[43m,\u001B[49m\n\u001B[32m    293\u001B[39m \u001B[43m    \u001B[49m\u001B[43mcontext_root_dir\u001B[49m\u001B[43m=\u001B[49m\u001B[43mcontext_root_dir\u001B[49m\u001B[43m,\u001B[49m\n\u001B[32m    294\u001B[39m \u001B[43m    \u001B[49m\u001B[43mproject_root_dir\u001B[49m\u001B[43m=\u001B[49m\u001B[43mproject_root_dir\u001B[49m\u001B[43m,\u001B[49m\n\u001B[32m    295\u001B[39m \u001B[43m    \u001B[49m\u001B[43mruntime_environment\u001B[49m\u001B[43m=\u001B[49m\u001B[43mruntime_environment\u001B[49m\u001B[43m,\u001B[49m\n\u001B[32m    296\u001B[39m \u001B[43m    \u001B[49m\u001B[43muser_agent_str\u001B[49m\u001B[43m=\u001B[49m\u001B[43muser_agent_str\u001B[49m\u001B[43m,\u001B[49m\n\u001B[32m    297\u001B[39m \u001B[43m\u001B[49m\u001B[43m)\u001B[49m\n\u001B[32m    298\u001B[39m \u001B[38;5;28;01mif\u001B[39;00m file_context:\n\u001B[32m    299\u001B[39m     \u001B[38;5;28;01mreturn\u001B[39;00m file_context\n",
      "\u001B[36mFile \u001B[39m\u001B[32mc:\\Users\\46722\\Desktop\\python-bank-projekt\\venv311\\Lib\\site-packages\\great_expectations\\data_context\\data_context\\context_factory.py:380\u001B[39m, in \u001B[36mProjectManager._get_file_context\u001B[39m\u001B[34m(self, project_config, context_root_dir, project_root_dir, runtime_environment, user_agent_str)\u001B[39m\n\u001B[32m    377\u001B[39m \u001B[38;5;28;01mfrom\u001B[39;00m\u001B[38;5;250m \u001B[39m\u001B[34;01mgreat_expectations\u001B[39;00m\u001B[34;01m.\u001B[39;00m\u001B[34;01mdata_context\u001B[39;00m\u001B[34;01m.\u001B[39;00m\u001B[34;01mdata_context\u001B[39;00m\u001B[38;5;250m \u001B[39m\u001B[38;5;28;01mimport\u001B[39;00m FileDataContext\n\u001B[32m    379\u001B[39m \u001B[38;5;28;01mtry\u001B[39;00m:\n\u001B[32m--> \u001B[39m\u001B[32m380\u001B[39m     \u001B[38;5;28;01mreturn\u001B[39;00m \u001B[43mFileDataContext\u001B[49m\u001B[43m(\u001B[49m\n\u001B[32m    381\u001B[39m \u001B[43m        \u001B[49m\u001B[43mproject_config\u001B[49m\u001B[43m=\u001B[49m\u001B[43mproject_config\u001B[49m\u001B[43m,\u001B[49m\n\u001B[32m    382\u001B[39m \u001B[43m        \u001B[49m\u001B[43mcontext_root_dir\u001B[49m\u001B[43m=\u001B[49m\u001B[43mcontext_root_dir\u001B[49m\u001B[43m,\u001B[49m\n\u001B[32m    383\u001B[39m \u001B[43m        \u001B[49m\u001B[43mproject_root_dir\u001B[49m\u001B[43m=\u001B[49m\u001B[43mproject_root_dir\u001B[49m\u001B[43m,\u001B[49m\n\u001B[32m    384\u001B[39m \u001B[43m        \u001B[49m\u001B[43mruntime_environment\u001B[49m\u001B[43m=\u001B[49m\u001B[43mruntime_environment\u001B[49m\u001B[43m,\u001B[49m\n\u001B[32m    385\u001B[39m \u001B[43m        \u001B[49m\u001B[43muser_agent_str\u001B[49m\u001B[43m=\u001B[49m\u001B[43muser_agent_str\u001B[49m\u001B[43m,\u001B[49m\n\u001B[32m    386\u001B[39m \u001B[43m    \u001B[49m\u001B[43m)\u001B[49m\n\u001B[32m    387\u001B[39m \u001B[38;5;28;01mexcept\u001B[39;00m gx_exceptions.ConfigNotFoundError:\n\u001B[32m    388\u001B[39m     logger.info(\u001B[33m\"\u001B[39m\u001B[33mCould not find local file-backed GX project\u001B[39m\u001B[33m\"\u001B[39m)\n",
      "\u001B[36mFile \u001B[39m\u001B[32mc:\\Users\\46722\\Desktop\\python-bank-projekt\\venv311\\Lib\\site-packages\\great_expectations\\data_context\\data_context\\file_data_context.py:63\u001B[39m, in \u001B[36mFileDataContext.__init__\u001B[39m\u001B[34m(self, project_config, context_root_dir, project_root_dir, runtime_environment, user_agent_str)\u001B[39m\n\u001B[32m     57\u001B[39m \u001B[38;5;28mself\u001B[39m._context_root_directory = \u001B[38;5;28mself\u001B[39m._init_context_root_directory(\n\u001B[32m     58\u001B[39m     context_root_dir=context_root_dir,\n\u001B[32m     59\u001B[39m     project_root_dir=project_root_dir,\n\u001B[32m     60\u001B[39m )\n\u001B[32m     61\u001B[39m \u001B[38;5;28mself\u001B[39m._scaffold_project()\n\u001B[32m---> \u001B[39m\u001B[32m63\u001B[39m \u001B[38;5;28mself\u001B[39m._project_config = \u001B[38;5;28;43mself\u001B[39;49m\u001B[43m.\u001B[49m\u001B[43m_init_project_config\u001B[49m\u001B[43m(\u001B[49m\u001B[43mproject_config\u001B[49m\u001B[43m)\u001B[49m\n\u001B[32m     64\u001B[39m \u001B[38;5;28msuper\u001B[39m().\u001B[34m__init__\u001B[39m(\n\u001B[32m     65\u001B[39m     context_root_dir=\u001B[38;5;28mself\u001B[39m._context_root_directory,\n\u001B[32m     66\u001B[39m     runtime_environment=runtime_environment,\n\u001B[32m     67\u001B[39m     user_agent_str=user_agent_str,\n\u001B[32m     68\u001B[39m )\n",
      "\u001B[36mFile \u001B[39m\u001B[32mc:\\Users\\46722\\Desktop\\python-bank-projekt\\venv311\\Lib\\site-packages\\great_expectations\\data_context\\data_context\\file_data_context.py:114\u001B[39m, in \u001B[36mFileDataContext._init_project_config\u001B[39m\u001B[34m(self, project_config)\u001B[39m\n\u001B[32m    112\u001B[39m     project_config = FileDataContext.get_or_create_data_context_config(project_config)\n\u001B[32m    113\u001B[39m \u001B[38;5;28;01melse\u001B[39;00m:\n\u001B[32m--> \u001B[39m\u001B[32m114\u001B[39m     project_config = \u001B[43mFileDataContext\u001B[49m\u001B[43m.\u001B[49m\u001B[43m_load_file_backed_project_config\u001B[49m\u001B[43m(\u001B[49m\n\u001B[32m    115\u001B[39m \u001B[43m        \u001B[49m\u001B[43mcontext_root_directory\u001B[49m\u001B[43m=\u001B[49m\u001B[38;5;28;43mself\u001B[39;49m\u001B[43m.\u001B[49m\u001B[43m_context_root_directory\u001B[49m\u001B[43m,\u001B[49m\n\u001B[32m    116\u001B[39m \u001B[43m    \u001B[49m\u001B[43m)\u001B[49m\n\u001B[32m    117\u001B[39m \u001B[38;5;28;01mreturn\u001B[39;00m project_config\n",
      "\u001B[36mFile \u001B[39m\u001B[32mc:\\Users\\46722\\Desktop\\python-bank-projekt\\venv311\\Lib\\site-packages\\great_expectations\\data_context\\data_context\\file_data_context.py:209\u001B[39m, in \u001B[36mFileDataContext._load_file_backed_project_config\u001B[39m\u001B[34m(cls, context_root_directory)\u001B[39m\n\u001B[32m    206\u001B[39m     \u001B[38;5;28;01mraise\u001B[39;00m gx_exceptions.ConfigNotFoundError()\n\u001B[32m    208\u001B[39m \u001B[38;5;28;01mtry\u001B[39;00m:\n\u001B[32m--> \u001B[39m\u001B[32m209\u001B[39m     \u001B[38;5;28;01mreturn\u001B[39;00m \u001B[43mDataContextConfig\u001B[49m\u001B[43m.\u001B[49m\u001B[43mfrom_commented_map\u001B[49m\u001B[43m(\u001B[49m\n\u001B[32m    210\u001B[39m \u001B[43m        \u001B[49m\u001B[43mcommented_map\u001B[49m\u001B[43m=\u001B[49m\u001B[43mconfig_commented_map_from_yaml\u001B[49m\n\u001B[32m    211\u001B[39m \u001B[43m    \u001B[49m\u001B[43m)\u001B[49m\n\u001B[32m    212\u001B[39m \u001B[38;5;28;01mexcept\u001B[39;00m gx_exceptions.InvalidDataContextConfigError:  \u001B[38;5;66;03m# noqa: TRY203 # FIXME CoP\u001B[39;00m\n\u001B[32m    213\u001B[39m     \u001B[38;5;66;03m# Just to be explicit about what we intended to catch\u001B[39;00m\n\u001B[32m    214\u001B[39m     \u001B[38;5;28;01mraise\u001B[39;00m\n",
      "\u001B[36mFile \u001B[39m\u001B[32mc:\\Users\\46722\\Desktop\\python-bank-projekt\\venv311\\Lib\\site-packages\\great_expectations\\data_context\\types\\base.py:127\u001B[39m, in \u001B[36mBaseYamlConfig.from_commented_map\u001B[39m\u001B[34m(cls, commented_map)\u001B[39m\n\u001B[32m    125\u001B[39m \u001B[38;5;28;01mtry\u001B[39;00m:\n\u001B[32m    126\u001B[39m     schema_instance: Schema = \u001B[38;5;28mcls\u001B[39m._get_schema_instance()\n\u001B[32m--> \u001B[39m\u001B[32m127\u001B[39m     config: Union[\u001B[38;5;28mdict\u001B[39m, BYC] = \u001B[43mschema_instance\u001B[49m\u001B[43m.\u001B[49m\u001B[43mload\u001B[49m\u001B[43m(\u001B[49m\u001B[43mcommented_map\u001B[49m\u001B[43m)\u001B[49m\n\u001B[32m    128\u001B[39m     \u001B[38;5;28;01mif\u001B[39;00m \u001B[38;5;28misinstance\u001B[39m(config, \u001B[38;5;28mdict\u001B[39m):\n\u001B[32m    129\u001B[39m         \u001B[38;5;28;01mreturn\u001B[39;00m \u001B[38;5;28mcls\u001B[39m.get_config_class()(commented_map=commented_map, **config)\n",
      "\u001B[36mFile \u001B[39m\u001B[32mc:\\Users\\46722\\Desktop\\python-bank-projekt\\venv311\\Lib\\site-packages\\marshmallow\\schema.py:792\u001B[39m, in \u001B[36mSchema.load\u001B[39m\u001B[34m(self, data, many, partial, unknown)\u001B[39m\n\u001B[32m    761\u001B[39m \u001B[38;5;28;01mdef\u001B[39;00m\u001B[38;5;250m \u001B[39m\u001B[34mload\u001B[39m(\n\u001B[32m    762\u001B[39m     \u001B[38;5;28mself\u001B[39m,\n\u001B[32m    763\u001B[39m     data: (\n\u001B[32m   (...)\u001B[39m\u001B[32m    770\u001B[39m     unknown: \u001B[38;5;28mstr\u001B[39m | \u001B[38;5;28;01mNone\u001B[39;00m = \u001B[38;5;28;01mNone\u001B[39;00m,\n\u001B[32m    771\u001B[39m ):\n\u001B[32m    772\u001B[39m \u001B[38;5;250m    \u001B[39m\u001B[33;03m\"\"\"Deserialize a data structure to an object defined by this Schema's fields.\u001B[39;00m\n\u001B[32m    773\u001B[39m \n\u001B[32m    774\u001B[39m \u001B[33;03m    :param data: The data to deserialize.\u001B[39;00m\n\u001B[32m   (...)\u001B[39m\u001B[32m    790\u001B[39m \u001B[33;03m        if invalid data are passed.\u001B[39;00m\n\u001B[32m    791\u001B[39m \u001B[33;03m    \"\"\"\u001B[39;00m\n\u001B[32m--> \u001B[39m\u001B[32m792\u001B[39m     \u001B[38;5;28;01mreturn\u001B[39;00m \u001B[38;5;28;43mself\u001B[39;49m\u001B[43m.\u001B[49m\u001B[43m_do_load\u001B[49m\u001B[43m(\u001B[49m\n\u001B[32m    793\u001B[39m \u001B[43m        \u001B[49m\u001B[43mdata\u001B[49m\u001B[43m,\u001B[49m\u001B[43m \u001B[49m\u001B[43mmany\u001B[49m\u001B[43m=\u001B[49m\u001B[43mmany\u001B[49m\u001B[43m,\u001B[49m\u001B[43m \u001B[49m\u001B[43mpartial\u001B[49m\u001B[43m=\u001B[49m\u001B[43mpartial\u001B[49m\u001B[43m,\u001B[49m\u001B[43m \u001B[49m\u001B[43munknown\u001B[49m\u001B[43m=\u001B[49m\u001B[43munknown\u001B[49m\u001B[43m,\u001B[49m\u001B[43m \u001B[49m\u001B[43mpostprocess\u001B[49m\u001B[43m=\u001B[49m\u001B[38;5;28;43;01mTrue\u001B[39;49;00m\n\u001B[32m    794\u001B[39m \u001B[43m    \u001B[49m\u001B[43m)\u001B[49m\n",
      "\u001B[36mFile \u001B[39m\u001B[32mc:\\Users\\46722\\Desktop\\python-bank-projekt\\venv311\\Lib\\site-packages\\marshmallow\\schema.py:998\u001B[39m, in \u001B[36mSchema._do_load\u001B[39m\u001B[34m(self, data, many, partial, unknown, postprocess)\u001B[39m\n\u001B[32m    996\u001B[39m \u001B[38;5;28;01mif\u001B[39;00m errors:\n\u001B[32m    997\u001B[39m     exc = ValidationError(errors, data=data, valid_data=result)\n\u001B[32m--> \u001B[39m\u001B[32m998\u001B[39m     \u001B[38;5;28;43mself\u001B[39;49m\u001B[43m.\u001B[49m\u001B[43mhandle_error\u001B[49m\u001B[43m(\u001B[49m\u001B[43mexc\u001B[49m\u001B[43m,\u001B[49m\u001B[43m \u001B[49m\u001B[43mdata\u001B[49m\u001B[43m,\u001B[49m\u001B[43m \u001B[49m\u001B[43mmany\u001B[49m\u001B[43m=\u001B[49m\u001B[43mmany\u001B[49m\u001B[43m,\u001B[49m\u001B[43m \u001B[49m\u001B[43mpartial\u001B[49m\u001B[43m=\u001B[49m\u001B[43mpartial\u001B[49m\u001B[43m)\u001B[49m\n\u001B[32m    999\u001B[39m     \u001B[38;5;28;01mraise\u001B[39;00m exc\n\u001B[32m   1001\u001B[39m \u001B[38;5;28;01mreturn\u001B[39;00m result\n",
      "\u001B[36mFile \u001B[39m\u001B[32mc:\\Users\\46722\\Desktop\\python-bank-projekt\\venv311\\Lib\\site-packages\\great_expectations\\data_context\\types\\base.py:1145\u001B[39m, in \u001B[36mDataContextConfigSchema.handle_error\u001B[39m\u001B[34m(self, exc, data, **kwargs)\u001B[39m\n\u001B[32m   1143\u001B[39m message: \u001B[38;5;28mstr\u001B[39m = \u001B[33mf\u001B[39m\u001B[33m\"\u001B[39m\u001B[33mError while processing DataContextConfig: \u001B[39m\u001B[38;5;132;01m{\u001B[39;00m\u001B[33m'\u001B[39m\u001B[33m \u001B[39m\u001B[33m'\u001B[39m.join(exc.messages)\u001B[38;5;132;01m}\u001B[39;00m\u001B[33m\"\u001B[39m\n\u001B[32m   1144\u001B[39m logger.error(message)\n\u001B[32m-> \u001B[39m\u001B[32m1145\u001B[39m \u001B[38;5;28;01mraise\u001B[39;00m gx_exceptions.InvalidDataContextConfigError(\n\u001B[32m   1146\u001B[39m     message=message,\n\u001B[32m   1147\u001B[39m )\n",
      "\u001B[31mInvalidDataContextConfigError\u001B[39m: Error while processing DataContextConfig: datasources notebooks validations_store_name evaluation_parameter_store_name include_rendered_content anonymous_usage_statistics"
     ]
    }
   ],
   "source": [
    "import pandas as pd\n",
    "import os\n",
    "from datetime import datetime\n",
    "\n",
    "os.makedirs(\"data/clean\", exist_ok=True)\n",
    "\n",
    "# === Kunddata ===\n",
    "customers_df = pd.read_csv(\"data/sebank_customers_with_accounts.csv\")\n",
    "print(f\"Totalt kunder innan validering: {len(customers_df)}\")\n",
    "\n",
    "# Ta bort rader utan Customer eller BankAccount\n",
    "customers_df = customers_df.dropna(subset=[\"Customer\", \"BankAccount\"])\n",
    "print(f\"Efter dropna på Customer och BankAccount: {len(customers_df)}\")\n",
    "\n",
    "# Telefon: tillåt siffror, mellanslag, +, bindestreck, 7-15 tecken\n",
    "phone_pattern = r\"^\\+?[\\d\\s\\-]{7,15}$\"\n",
    "customers_df = customers_df[customers_df[\"Phone\"].str.contains(phone_pattern, na=False)]\n",
    "print(f\"Efter telefonfilter: {len(customers_df)}\")\n",
    "\n",
    "# Personnummer: 6 siffror + valfritt - eller + + 4 siffror\n",
    "personnummer_pattern = r\"^\\d{6}[-+]?\\d{4}$\"\n",
    "customers_df = customers_df[customers_df[\"Personnummer\"].str.contains(personnummer_pattern, na=False)]\n",
    "print(f\"Efter personnummerfilter: {len(customers_df)}\")\n",
    "\n",
    "# Ta bort dubletter på BankAccount\n",
    "customers_df = customers_df.drop_duplicates(subset=\"BankAccount\")\n",
    "print(f\"Efter drop_duplicates på BankAccount: {len(customers_df)}\")\n",
    "\n",
    "# Spara ren kunddata\n",
    "customers_df.to_csv(\"data/clean/customers_clean.csv\", index=False)\n",
    "print(\"Kunddata sparad i data/clean/customers_clean.csv\\n\")\n",
    "\n",
    "\n",
    "# === Transaktionsdata ===\n",
    "transactions_df = pd.read_csv(\"data/transactions.csv\")\n",
    "transactions_df[\"notes\"] = transactions_df[\"notes\"].fillna(\"ingen kommentar\")\n",
    "transactions_df[\"timestamp\"] = pd.to_datetime(transactions_df[\"timestamp\"], errors='coerce')\n",
    "\n",
    "print(f\"Totalt transaktioner innan validering: {len(transactions_df)}\")\n",
    "\n",
    "# Belopp >= 0.01\n",
    "transactions_df = transactions_df[transactions_df[\"amount\"] >= 0.01]\n",
    "print(f\"Efter filter på amount >= 0.01: {len(transactions_df)}\")\n",
    "\n",
    "# Valuta: exakt 3 versaler\n",
    "transactions_df = transactions_df[transactions_df[\"currency\"].str.match(r\"^[A-Z]{3}$\", na=False)]\n",
    "print(f\"Efter valutafilter: {len(transactions_df)}\")\n",
    "\n",
    "# Ta bort rader utan notes\n",
    "transactions_df = transactions_df.dropna(subset=[\"notes\"])\n",
    "print(f\"Efter dropna på notes: {len(transactions_df)}\")\n",
    "\n",
    "# Ta bort dubletter på transaction_id\n",
    "transactions_df = transactions_df.drop_duplicates(subset=\"transaction_id\")\n",
    "print(f\"Efter drop_duplicates på transaction_id: {len(transactions_df)}\")\n",
    "\n",
    "# Spara ren transaktionsdata\n",
    "transactions_df.to_csv(\"data/clean/transactions_clean.csv\", index=False)\n",
    "print(\"Transaktionsdata sparad i data/clean/transactions_clean.csv\\n\")\n",
    "\n",
    "\n",
    "# === Flagga misstänkta transaktioner ===\n",
    "flagged = []\n",
    "\n",
    "# 1. Samma konto som avsändare och mottagare\n",
    "samma_konto = transactions_df[transactions_df[\"sender_account\"] == transactions_df[\"receiver_account\"]]\n",
    "for _, row in samma_konto.iterrows():\n",
    "    flagged.append({\n",
    "        \"transaction_id\": row[\"transaction_id\"],\n",
    "        \"reason\": \"Samma konto som avsändare och mottagare\",\n",
    "        \"flagged_date\": datetime.today().strftime(\"%Y-%m-%d\"),\n",
    "        \"amount\": row[\"amount\"]\n",
    "    })\n",
    "\n",
    "# 2. Högt belopp\n",
    "for _, row in transactions_df[transactions_df[\"amount\"] > 100_000].iterrows():\n",
    "    flagged.append({\n",
    "        \"transaction_id\": row[\"transaction_id\"],\n",
    "        \"reason\": \"Belopp över 100 000 SEK\",\n",
    "        \"flagged_date\": datetime.today().strftime(\"%Y-%m-%d\"),\n",
    "        \"amount\": row[\"amount\"]\n",
    "    })\n",
    "\n",
    "# 3. Negativt belopp (ska inte finnas kvar, men dubbelkolla)\n",
    "for _, row in transactions_df[transactions_df[\"amount\"] < 0].iterrows():\n",
    "    flagged.append({\n",
    "        \"transaction_id\": row[\"transaction_id\"],\n",
    "        \"reason\": \"Negativt belopp\",\n",
    "        \"flagged_date\": datetime.today().strftime(\"%Y-%m-%d\"),\n",
    "        \"amount\": row[\"amount\"]\n",
    "    })\n",
    "\n",
    "# 4. Flera transaktioner från samma konto inom 1 minut\n",
    "tx = transactions_df.sort_values(by=[\"sender_account\", \"timestamp\"])\n",
    "for account, group in tx.groupby(\"sender_account\"):\n",
    "    timestamps = group[\"timestamp\"].tolist()\n",
    "    for i in range(len(timestamps) - 3):\n",
    "        if (timestamps[i + 3] - timestamps[i]).total_seconds() <= 60:\n",
    "            match = group.iloc[i:i+4]\n",
    "            for _, row in match.iterrows():\n",
    "                flagged.append({\n",
    "                    \"transaction_id\": row[\"transaction_id\"],\n",
    "                    \"reason\": \"Flera transaktioner inom 1 minut\",\n",
    "                    \"flagged_date\": datetime.today().strftime(\"%Y-%m-%d\"),\n",
    "                    \"amount\": row[\"amount\"]\n",
    "                })\n",
    "\n",
    "# Ta bort eventuella dubbletter i flaggade transaktioner\n",
    "flagged_df = pd.DataFrame(flagged).drop_duplicates(subset=[\"transaction_id\", \"reason\"])\n",
    "\n",
    "# Spara flaggade transaktioner\n",
    "flagged_df.to_csv(\"data/clean/flagged_transactions.csv\", index=False)\n",
    "print(\"Flaggade transaktioner sparade i data/clean/flagged_transactions.csv\\n\")\n",
    "\n",
    "print(\"Klart! Validering och flaggning klar.\")\n",
    "\n",
    "\n",
    "\n",
    "\n",
    "\n",
    "\n"
   ]
  },
  {
   "cell_type": "code",
   "execution_count": 19,
   "id": "439bbd92",
   "metadata": {},
   "outputs": [
    {
     "ename": "AttributeError",
     "evalue": "'FileDataContext' object has no attribute 'sources'",
     "output_type": "error",
     "traceback": [
      "\u001B[31m---------------------------------------------------------------------------\u001B[39m",
      "\u001B[31mAttributeError\u001B[39m                            Traceback (most recent call last)",
      "\u001B[36mCell\u001B[39m\u001B[36m \u001B[39m\u001B[32mIn[19]\u001B[39m\u001B[32m, line 7\u001B[39m\n\u001B[32m      4\u001B[39m df = pd.read_csv(\u001B[33m\"\u001B[39m\u001B[33mdata/transactions.csv\u001B[39m\u001B[33m\"\u001B[39m)  \u001B[38;5;66;03m# تأكد أن المسار صحيح\u001B[39;00m\n\u001B[32m      6\u001B[39m \u001B[38;5;66;03m# 2. إنشاء Datasource من نوع Pandas\u001B[39;00m\n\u001B[32m----> \u001B[39m\u001B[32m7\u001B[39m ds = \u001B[43mcontext\u001B[49m\u001B[43m.\u001B[49m\u001B[43msources\u001B[49m.add_pandas(name=\u001B[33m\"\u001B[39m\u001B[33mmy_pandas_ds\u001B[39m\u001B[33m\"\u001B[39m)\n\u001B[32m      9\u001B[39m \u001B[38;5;66;03m# 3. إنشاء asset لتمثيل مجموعة البيانات\u001B[39;00m\n\u001B[32m     10\u001B[39m asset = ds.add_dataframe_asset(name=\u001B[33m\"\u001B[39m\u001B[33mtransactions_asset\u001B[39m\u001B[33m\"\u001B[39m)\n",
      "\u001B[31mAttributeError\u001B[39m: 'FileDataContext' object has no attribute 'sources'"
     ]
    }
   ],
   "source": "\n"
  },
  {
   "cell_type": "code",
   "execution_count": 20,
   "id": "116b1f53",
   "metadata": {},
   "outputs": [
    {
     "ename": "ImportError",
     "evalue": "cannot import name 'BaseDataContext' from 'great_expectations.data_context' (c:\\Users\\46722\\Desktop\\python-bank-projekt\\venv311\\Lib\\site-packages\\great_expectations\\data_context\\__init__.py)",
     "output_type": "error",
     "traceback": [
      "\u001B[31m---------------------------------------------------------------------------\u001B[39m",
      "\u001B[31mImportError\u001B[39m                               Traceback (most recent call last)",
      "\u001B[36mCell\u001B[39m\u001B[36m \u001B[39m\u001B[32mIn[20]\u001B[39m\u001B[32m, line 5\u001B[39m\n\u001B[32m      1\u001B[39m \u001B[38;5;28;01mfrom\u001B[39;00m\u001B[38;5;250m \u001B[39m\u001B[34;01mgreat_expectations\u001B[39;00m\u001B[34;01m.\u001B[39;00m\u001B[34;01mdata_context\u001B[39;00m\u001B[34;01m.\u001B[39;00m\u001B[34;01mtypes\u001B[39;00m\u001B[34;01m.\u001B[39;00m\u001B[34;01mbase\u001B[39;00m\u001B[38;5;250m \u001B[39m\u001B[38;5;28;01mimport\u001B[39;00m (\n\u001B[32m      2\u001B[39m     DataContextConfig,\n\u001B[32m      3\u001B[39m     FilesystemStoreBackendDefaults,\n\u001B[32m      4\u001B[39m )\n\u001B[32m----> \u001B[39m\u001B[32m5\u001B[39m \u001B[38;5;28;01mfrom\u001B[39;00m\u001B[38;5;250m \u001B[39m\u001B[34;01mgreat_expectations\u001B[39;00m\u001B[34;01m.\u001B[39;00m\u001B[34;01mdata_context\u001B[39;00m\u001B[38;5;250m \u001B[39m\u001B[38;5;28;01mimport\u001B[39;00m BaseDataContext\n\u001B[32m      7\u001B[39m \u001B[38;5;66;03m# إنشاء السياق اليدوي\u001B[39;00m\n\u001B[32m      8\u001B[39m config = DataContextConfig(\n\u001B[32m      9\u001B[39m     store_backend_defaults=FilesystemStoreBackendDefaults(root_directory=\u001B[33m\"\u001B[39m\u001B[33mgx_project\u001B[39m\u001B[33m\"\u001B[39m),\n\u001B[32m     10\u001B[39m     anonymous_usage_statistics={\u001B[33m\"\u001B[39m\u001B[33menabled\u001B[39m\u001B[33m\"\u001B[39m: \u001B[38;5;28;01mFalse\u001B[39;00m},\n\u001B[32m     11\u001B[39m )\n",
      "\u001B[31mImportError\u001B[39m: cannot import name 'BaseDataContext' from 'great_expectations.data_context' (c:\\Users\\46722\\Desktop\\python-bank-projekt\\venv311\\Lib\\site-packages\\great_expectations\\data_context\\__init__.py)"
     ]
    }
   ],
   "source": ""
  },
  {
   "cell_type": "code",
   "execution_count": 21,
   "id": "8a1e6a04",
   "metadata": {},
   "outputs": [
    {
     "ename": "SyntaxError",
     "evalue": "invalid syntax (246434187.py, line 2)",
     "output_type": "error",
     "traceback": [
      "  \u001B[36mCell\u001B[39m\u001B[36m \u001B[39m\u001B[32mIn[21]\u001B[39m\u001B[32m, line 2\u001B[39m\n\u001B[31m    \u001B[39m\u001B[31m>> shutil.rmtree(\"gx_project\", ignore_errors=True)\u001B[39m\n    ^\n\u001B[31mSyntaxError\u001B[39m\u001B[31m:\u001B[39m invalid syntax\n"
     ]
    }
   ],
   "source": ""
  },
  {
   "cell_type": "code",
   "execution_count": 22,
   "id": "d7791d5c",
   "metadata": {},
   "outputs": [],
   "source": "\n"
  },
  {
   "cell_type": "code",
   "execution_count": 23,
   "id": "97ffea0a",
   "metadata": {},
   "outputs": [
    {
     "ename": "TypeError",
     "evalue": "DataContextConfig.__init__() got an unexpected keyword argument 'anonymous_usage_statistics'",
     "output_type": "error",
     "traceback": [
      "\u001B[31m---------------------------------------------------------------------------\u001B[39m",
      "\u001B[31mTypeError\u001B[39m                                 Traceback (most recent call last)",
      "\u001B[36mCell\u001B[39m\u001B[36m \u001B[39m\u001B[32mIn[23]\u001B[39m\u001B[32m, line 10\u001B[39m\n\u001B[32m      7\u001B[39m os.makedirs(project_dir, exist_ok=\u001B[38;5;28;01mTrue\u001B[39;00m)\n\u001B[32m      9\u001B[39m \u001B[38;5;66;03m# إنشاء الإعدادات\u001B[39;00m\n\u001B[32m---> \u001B[39m\u001B[32m10\u001B[39m config = \u001B[43mDataContextConfig\u001B[49m\u001B[43m(\u001B[49m\n\u001B[32m     11\u001B[39m \u001B[43m    \u001B[49m\u001B[43mstore_backend_defaults\u001B[49m\u001B[43m=\u001B[49m\u001B[43mFilesystemStoreBackendDefaults\u001B[49m\u001B[43m(\u001B[49m\u001B[43mroot_directory\u001B[49m\u001B[43m=\u001B[49m\u001B[43mproject_dir\u001B[49m\u001B[43m)\u001B[49m\u001B[43m,\u001B[49m\n\u001B[32m     12\u001B[39m \u001B[43m    \u001B[49m\u001B[43manonymous_usage_statistics\u001B[49m\u001B[43m=\u001B[49m\u001B[43m{\u001B[49m\u001B[33;43m\"\u001B[39;49m\u001B[33;43menabled\u001B[39;49m\u001B[33;43m\"\u001B[39;49m\u001B[43m:\u001B[49m\u001B[43m \u001B[49m\u001B[38;5;28;43;01mFalse\u001B[39;49;00m\u001B[43m}\u001B[49m\n\u001B[32m     13\u001B[39m \u001B[43m)\u001B[49m\n\u001B[32m     15\u001B[39m \u001B[38;5;66;03m# تهيئة السياق\u001B[39;00m\n\u001B[32m     16\u001B[39m context = gx.get_context(project_config=config, context_root_dir=project_dir)\n",
      "\u001B[31mTypeError\u001B[39m: DataContextConfig.__init__() got an unexpected keyword argument 'anonymous_usage_statistics'"
     ]
    }
   ],
   "source": ""
  },
  {
   "cell_type": "code",
   "execution_count": 25,
   "id": "3b8e76ea",
   "metadata": {},
   "outputs": [
    {
     "name": "stdout",
     "output_type": "stream",
     "text": [
      "✅ تم إنشاء مشروع Great Expectations بنجاح!\n"
     ]
    }
   ],
   "source": "\n"
  },
  {
   "cell_type": "code",
   "execution_count": 26,
   "id": "deb97ad4",
   "metadata": {},
   "outputs": [],
   "source": ""
  },
  {
   "cell_type": "code",
   "execution_count": 28,
   "id": "c4172772",
   "metadata": {},
   "outputs": [],
   "source": "\n"
  },
  {
   "cell_type": "code",
   "execution_count": 29,
   "id": "bd91470b",
   "metadata": {},
   "outputs": [
    {
     "name": "stderr",
     "output_type": "stream",
     "text": [
      "Error while processing DataContextConfig: datasources notebooks validations_store_name evaluation_parameter_store_name include_rendered_content anonymous_usage_statistics\n",
      "Encountered errors during loading config.  See ValidationError for more details.\n"
     ]
    },
    {
     "ename": "InvalidDataContextConfigError",
     "evalue": "Error while processing DataContextConfig: datasources notebooks validations_store_name evaluation_parameter_store_name include_rendered_content anonymous_usage_statistics",
     "output_type": "error",
     "traceback": [
      "\u001B[31m---------------------------------------------------------------------------\u001B[39m",
      "\u001B[31mInvalidDataContextConfigError\u001B[39m             Traceback (most recent call last)",
      "\u001B[36mCell\u001B[39m\u001B[36m \u001B[39m\u001B[32mIn[29]\u001B[39m\u001B[32m, line 2\u001B[39m\n\u001B[32m      1\u001B[39m \u001B[38;5;66;03m# نستخدم السياق الذي أنشأناه سابقًا\u001B[39;00m\n\u001B[32m----> \u001B[39m\u001B[32m2\u001B[39m context = \u001B[43mgx\u001B[49m\u001B[43m.\u001B[49m\u001B[43mget_context\u001B[49m\u001B[43m(\u001B[49m\u001B[43m)\u001B[49m\n\u001B[32m      4\u001B[39m \u001B[38;5;66;03m# إنشاء Datasource من نوع Pandas\u001B[39;00m\n\u001B[32m      5\u001B[39m ds = PandasDatasource(name=\u001B[33m\"\u001B[39m\u001B[33mmy_pandas_ds\u001B[39m\u001B[33m\"\u001B[39m)\n",
      "\u001B[36mFile \u001B[39m\u001B[32mc:\\Users\\46722\\Desktop\\python-bank-projekt\\venv311\\Lib\\site-packages\\great_expectations\\data_context\\data_context\\context_factory.py:593\u001B[39m, in \u001B[36mget_context\u001B[39m\u001B[34m(project_config, context_root_dir, project_root_dir, runtime_environment, cloud_base_url, cloud_access_token, cloud_organization_id, cloud_mode, user_agent_str, mode)\u001B[39m\n\u001B[32m    508\u001B[39m \u001B[38;5;129m@public_api\u001B[39m\n\u001B[32m    509\u001B[39m \u001B[38;5;28;01mdef\u001B[39;00m\u001B[38;5;250m \u001B[39m\u001B[34mget_context\u001B[39m(  \u001B[38;5;66;03m# noqa: PLR0913 # FIXME CoP\u001B[39;00m\n\u001B[32m    510\u001B[39m     project_config: DataContextConfig | Mapping | \u001B[38;5;28;01mNone\u001B[39;00m = \u001B[38;5;28;01mNone\u001B[39;00m,\n\u001B[32m   (...)\u001B[39m\u001B[32m    519\u001B[39m     mode: ContextModes | \u001B[38;5;28;01mNone\u001B[39;00m = \u001B[38;5;28;01mNone\u001B[39;00m,\n\u001B[32m    520\u001B[39m ) -> AbstractDataContext:\n\u001B[32m    521\u001B[39m \u001B[38;5;250m    \u001B[39m\u001B[33;03m\"\"\"Method to return the appropriate Data Context depending on parameters and environment.\u001B[39;00m\n\u001B[32m    522\u001B[39m \n\u001B[32m    523\u001B[39m \u001B[33;03m    Usage:\u001B[39;00m\n\u001B[32m   (...)\u001B[39m\u001B[32m    591\u001B[39m \u001B[33;03m        GXCloudConfigurationError: Cloud mode enabled, but missing configuration.\u001B[39;00m\n\u001B[32m    592\u001B[39m \u001B[33;03m    \"\"\"\u001B[39;00m  \u001B[38;5;66;03m# noqa: E501 # FIXME CoP\u001B[39;00m\n\u001B[32m--> \u001B[39m\u001B[32m593\u001B[39m     \u001B[38;5;28;01mreturn\u001B[39;00m \u001B[43mproject_manager\u001B[49m\u001B[43m.\u001B[49m\u001B[43mget_project\u001B[49m\u001B[43m(\u001B[49m\n\u001B[32m    594\u001B[39m \u001B[43m        \u001B[49m\u001B[43mproject_config\u001B[49m\u001B[43m=\u001B[49m\u001B[43mproject_config\u001B[49m\u001B[43m,\u001B[49m\n\u001B[32m    595\u001B[39m \u001B[43m        \u001B[49m\u001B[43mcontext_root_dir\u001B[49m\u001B[43m=\u001B[49m\u001B[43mcontext_root_dir\u001B[49m\u001B[43m,\u001B[49m\n\u001B[32m    596\u001B[39m \u001B[43m        \u001B[49m\u001B[43mproject_root_dir\u001B[49m\u001B[43m=\u001B[49m\u001B[43mproject_root_dir\u001B[49m\u001B[43m,\u001B[49m\n\u001B[32m    597\u001B[39m \u001B[43m        \u001B[49m\u001B[43mruntime_environment\u001B[49m\u001B[43m=\u001B[49m\u001B[43mruntime_environment\u001B[49m\u001B[43m,\u001B[49m\n\u001B[32m    598\u001B[39m \u001B[43m        \u001B[49m\u001B[43mcloud_base_url\u001B[49m\u001B[43m=\u001B[49m\u001B[43mcloud_base_url\u001B[49m\u001B[43m,\u001B[49m\n\u001B[32m    599\u001B[39m \u001B[43m        \u001B[49m\u001B[43mcloud_access_token\u001B[49m\u001B[43m=\u001B[49m\u001B[43mcloud_access_token\u001B[49m\u001B[43m,\u001B[49m\n\u001B[32m    600\u001B[39m \u001B[43m        \u001B[49m\u001B[43mcloud_organization_id\u001B[49m\u001B[43m=\u001B[49m\u001B[43mcloud_organization_id\u001B[49m\u001B[43m,\u001B[49m\n\u001B[32m    601\u001B[39m \u001B[43m        \u001B[49m\u001B[43mcloud_mode\u001B[49m\u001B[43m=\u001B[49m\u001B[43mcloud_mode\u001B[49m\u001B[43m,\u001B[49m\n\u001B[32m    602\u001B[39m \u001B[43m        \u001B[49m\u001B[43muser_agent_str\u001B[49m\u001B[43m=\u001B[49m\u001B[43muser_agent_str\u001B[49m\u001B[43m,\u001B[49m\n\u001B[32m    603\u001B[39m \u001B[43m        \u001B[49m\u001B[43mmode\u001B[49m\u001B[43m=\u001B[49m\u001B[43mmode\u001B[49m\u001B[43m,\u001B[49m\n\u001B[32m    604\u001B[39m \u001B[43m    \u001B[49m\u001B[43m)\u001B[49m\n",
      "\u001B[36mFile \u001B[39m\u001B[32mc:\\Users\\46722\\Desktop\\python-bank-projekt\\venv311\\Lib\\site-packages\\great_expectations\\data_context\\data_context\\context_factory.py:77\u001B[39m, in \u001B[36mProjectManager.get_project\u001B[39m\u001B[34m(self, project_config, context_root_dir, project_root_dir, runtime_environment, cloud_base_url, cloud_access_token, cloud_organization_id, cloud_mode, user_agent_str, mode)\u001B[39m\n\u001B[32m     64\u001B[39m \u001B[38;5;28;01mdef\u001B[39;00m\u001B[38;5;250m \u001B[39m\u001B[34mget_project\u001B[39m(  \u001B[38;5;66;03m# noqa: PLR0913 # FIXME CoP\u001B[39;00m\n\u001B[32m     65\u001B[39m     \u001B[38;5;28mself\u001B[39m,\n\u001B[32m     66\u001B[39m     project_config: DataContextConfig | Mapping | \u001B[38;5;28;01mNone\u001B[39;00m = \u001B[38;5;28;01mNone\u001B[39;00m,\n\u001B[32m   (...)\u001B[39m\u001B[32m     75\u001B[39m     mode: ContextModes | \u001B[38;5;28;01mNone\u001B[39;00m = \u001B[38;5;28;01mNone\u001B[39;00m,\n\u001B[32m     76\u001B[39m ) -> AbstractDataContext:\n\u001B[32m---> \u001B[39m\u001B[32m77\u001B[39m     \u001B[38;5;28mself\u001B[39m.__project = \u001B[38;5;28;43mself\u001B[39;49m\u001B[43m.\u001B[49m\u001B[43m_build_context\u001B[49m\u001B[43m(\u001B[49m\n\u001B[32m     78\u001B[39m \u001B[43m        \u001B[49m\u001B[43mproject_config\u001B[49m\u001B[43m=\u001B[49m\u001B[43mproject_config\u001B[49m\u001B[43m,\u001B[49m\n\u001B[32m     79\u001B[39m \u001B[43m        \u001B[49m\u001B[43mcontext_root_dir\u001B[49m\u001B[43m=\u001B[49m\u001B[43mcontext_root_dir\u001B[49m\u001B[43m,\u001B[49m\n\u001B[32m     80\u001B[39m \u001B[43m        \u001B[49m\u001B[43mproject_root_dir\u001B[49m\u001B[43m=\u001B[49m\u001B[43mproject_root_dir\u001B[49m\u001B[43m,\u001B[49m\n\u001B[32m     81\u001B[39m \u001B[43m        \u001B[49m\u001B[43mruntime_environment\u001B[49m\u001B[43m=\u001B[49m\u001B[43mruntime_environment\u001B[49m\u001B[43m,\u001B[49m\n\u001B[32m     82\u001B[39m \u001B[43m        \u001B[49m\u001B[43mcloud_base_url\u001B[49m\u001B[43m=\u001B[49m\u001B[43mcloud_base_url\u001B[49m\u001B[43m,\u001B[49m\n\u001B[32m     83\u001B[39m \u001B[43m        \u001B[49m\u001B[43mcloud_access_token\u001B[49m\u001B[43m=\u001B[49m\u001B[43mcloud_access_token\u001B[49m\u001B[43m,\u001B[49m\n\u001B[32m     84\u001B[39m \u001B[43m        \u001B[49m\u001B[43mcloud_organization_id\u001B[49m\u001B[43m=\u001B[49m\u001B[43mcloud_organization_id\u001B[49m\u001B[43m,\u001B[49m\n\u001B[32m     85\u001B[39m \u001B[43m        \u001B[49m\u001B[43mcloud_mode\u001B[49m\u001B[43m=\u001B[49m\u001B[43mcloud_mode\u001B[49m\u001B[43m,\u001B[49m\n\u001B[32m     86\u001B[39m \u001B[43m        \u001B[49m\u001B[43muser_agent_str\u001B[49m\u001B[43m=\u001B[49m\u001B[43muser_agent_str\u001B[49m\u001B[43m,\u001B[49m\n\u001B[32m     87\u001B[39m \u001B[43m        \u001B[49m\u001B[43mmode\u001B[49m\u001B[43m=\u001B[49m\u001B[43mmode\u001B[49m\u001B[43m,\u001B[49m\n\u001B[32m     88\u001B[39m \u001B[43m    \u001B[49m\u001B[43m)\u001B[49m\n\u001B[32m     89\u001B[39m     \u001B[38;5;28;01mreturn\u001B[39;00m \u001B[38;5;28mself\u001B[39m.__project\n",
      "\u001B[36mFile \u001B[39m\u001B[32mc:\\Users\\46722\\Desktop\\python-bank-projekt\\venv311\\Lib\\site-packages\\great_expectations\\data_context\\data_context\\context_factory.py:248\u001B[39m, in \u001B[36mProjectManager._build_context\u001B[39m\u001B[34m(self, project_config, context_root_dir, project_root_dir, runtime_environment, cloud_base_url, cloud_access_token, cloud_organization_id, cloud_mode, user_agent_str, mode)\u001B[39m\n\u001B[32m    240\u001B[39m context_fn_map: \u001B[38;5;28mdict\u001B[39m[ContextModes | \u001B[38;5;28;01mNone\u001B[39;00m, Callable] = {\n\u001B[32m    241\u001B[39m     \u001B[33m\"\u001B[39m\u001B[33mephemeral\u001B[39m\u001B[33m\"\u001B[39m: \u001B[38;5;28mself\u001B[39m._get_ephemeral_context,\n\u001B[32m    242\u001B[39m     \u001B[33m\"\u001B[39m\u001B[33mfile\u001B[39m\u001B[33m\"\u001B[39m: \u001B[38;5;28mself\u001B[39m._get_file_context,\n\u001B[32m    243\u001B[39m     \u001B[33m\"\u001B[39m\u001B[33mcloud\u001B[39m\u001B[33m\"\u001B[39m: \u001B[38;5;28mself\u001B[39m._get_cloud_context,\n\u001B[32m    244\u001B[39m     \u001B[38;5;28;01mNone\u001B[39;00m: \u001B[38;5;28mself\u001B[39m._get_default_context,\n\u001B[32m    245\u001B[39m }\n\u001B[32m    247\u001B[39m context_fn = context_fn_map[mode]\n\u001B[32m--> \u001B[39m\u001B[32m248\u001B[39m context = \u001B[43mcontext_fn\u001B[49m\u001B[43m(\u001B[49m\u001B[43m*\u001B[49m\u001B[43m*\u001B[49m\u001B[43mkwargs\u001B[49m\u001B[43m)\u001B[49m\n\u001B[32m    250\u001B[39m expected_type = expected_ctx_types[mode]\n\u001B[32m    251\u001B[39m \u001B[38;5;28;01mif\u001B[39;00m \u001B[38;5;129;01mnot\u001B[39;00m \u001B[38;5;28misinstance\u001B[39m(context, expected_type):\n\u001B[32m    252\u001B[39m     \u001B[38;5;66;03m# example I want an ephemeral context but the presence of a GX_CLOUD env var gives me a cloud context  # noqa: E501 # FIXME CoP\u001B[39;00m\n",
      "\u001B[36mFile \u001B[39m\u001B[32mc:\\Users\\46722\\Desktop\\python-bank-projekt\\venv311\\Lib\\site-packages\\great_expectations\\data_context\\data_context\\context_factory.py:291\u001B[39m, in \u001B[36mProjectManager._get_default_context\u001B[39m\u001B[34m(self, project_config, context_root_dir, project_root_dir, runtime_environment, cloud_base_url, cloud_access_token, cloud_organization_id, user_agent_str, cloud_mode, mode)\u001B[39m\n\u001B[32m    288\u001B[39m     \u001B[38;5;28;01mreturn\u001B[39;00m cloud_context\n\u001B[32m    290\u001B[39m \u001B[38;5;66;03m# Second, check for a context_root_dir to determine if using a filesystem\u001B[39;00m\n\u001B[32m--> \u001B[39m\u001B[32m291\u001B[39m file_context = \u001B[38;5;28;43mself\u001B[39;49m\u001B[43m.\u001B[49m\u001B[43m_get_file_context\u001B[49m\u001B[43m(\u001B[49m\n\u001B[32m    292\u001B[39m \u001B[43m    \u001B[49m\u001B[43mproject_config\u001B[49m\u001B[43m=\u001B[49m\u001B[43mproject_config\u001B[49m\u001B[43m,\u001B[49m\n\u001B[32m    293\u001B[39m \u001B[43m    \u001B[49m\u001B[43mcontext_root_dir\u001B[49m\u001B[43m=\u001B[49m\u001B[43mcontext_root_dir\u001B[49m\u001B[43m,\u001B[49m\n\u001B[32m    294\u001B[39m \u001B[43m    \u001B[49m\u001B[43mproject_root_dir\u001B[49m\u001B[43m=\u001B[49m\u001B[43mproject_root_dir\u001B[49m\u001B[43m,\u001B[49m\n\u001B[32m    295\u001B[39m \u001B[43m    \u001B[49m\u001B[43mruntime_environment\u001B[49m\u001B[43m=\u001B[49m\u001B[43mruntime_environment\u001B[49m\u001B[43m,\u001B[49m\n\u001B[32m    296\u001B[39m \u001B[43m    \u001B[49m\u001B[43muser_agent_str\u001B[49m\u001B[43m=\u001B[49m\u001B[43muser_agent_str\u001B[49m\u001B[43m,\u001B[49m\n\u001B[32m    297\u001B[39m \u001B[43m\u001B[49m\u001B[43m)\u001B[49m\n\u001B[32m    298\u001B[39m \u001B[38;5;28;01mif\u001B[39;00m file_context:\n\u001B[32m    299\u001B[39m     \u001B[38;5;28;01mreturn\u001B[39;00m file_context\n",
      "\u001B[36mFile \u001B[39m\u001B[32mc:\\Users\\46722\\Desktop\\python-bank-projekt\\venv311\\Lib\\site-packages\\great_expectations\\data_context\\data_context\\context_factory.py:380\u001B[39m, in \u001B[36mProjectManager._get_file_context\u001B[39m\u001B[34m(self, project_config, context_root_dir, project_root_dir, runtime_environment, user_agent_str)\u001B[39m\n\u001B[32m    377\u001B[39m \u001B[38;5;28;01mfrom\u001B[39;00m\u001B[38;5;250m \u001B[39m\u001B[34;01mgreat_expectations\u001B[39;00m\u001B[34;01m.\u001B[39;00m\u001B[34;01mdata_context\u001B[39;00m\u001B[34;01m.\u001B[39;00m\u001B[34;01mdata_context\u001B[39;00m\u001B[38;5;250m \u001B[39m\u001B[38;5;28;01mimport\u001B[39;00m FileDataContext\n\u001B[32m    379\u001B[39m \u001B[38;5;28;01mtry\u001B[39;00m:\n\u001B[32m--> \u001B[39m\u001B[32m380\u001B[39m     \u001B[38;5;28;01mreturn\u001B[39;00m \u001B[43mFileDataContext\u001B[49m\u001B[43m(\u001B[49m\n\u001B[32m    381\u001B[39m \u001B[43m        \u001B[49m\u001B[43mproject_config\u001B[49m\u001B[43m=\u001B[49m\u001B[43mproject_config\u001B[49m\u001B[43m,\u001B[49m\n\u001B[32m    382\u001B[39m \u001B[43m        \u001B[49m\u001B[43mcontext_root_dir\u001B[49m\u001B[43m=\u001B[49m\u001B[43mcontext_root_dir\u001B[49m\u001B[43m,\u001B[49m\n\u001B[32m    383\u001B[39m \u001B[43m        \u001B[49m\u001B[43mproject_root_dir\u001B[49m\u001B[43m=\u001B[49m\u001B[43mproject_root_dir\u001B[49m\u001B[43m,\u001B[49m\n\u001B[32m    384\u001B[39m \u001B[43m        \u001B[49m\u001B[43mruntime_environment\u001B[49m\u001B[43m=\u001B[49m\u001B[43mruntime_environment\u001B[49m\u001B[43m,\u001B[49m\n\u001B[32m    385\u001B[39m \u001B[43m        \u001B[49m\u001B[43muser_agent_str\u001B[49m\u001B[43m=\u001B[49m\u001B[43muser_agent_str\u001B[49m\u001B[43m,\u001B[49m\n\u001B[32m    386\u001B[39m \u001B[43m    \u001B[49m\u001B[43m)\u001B[49m\n\u001B[32m    387\u001B[39m \u001B[38;5;28;01mexcept\u001B[39;00m gx_exceptions.ConfigNotFoundError:\n\u001B[32m    388\u001B[39m     logger.info(\u001B[33m\"\u001B[39m\u001B[33mCould not find local file-backed GX project\u001B[39m\u001B[33m\"\u001B[39m)\n",
      "\u001B[36mFile \u001B[39m\u001B[32mc:\\Users\\46722\\Desktop\\python-bank-projekt\\venv311\\Lib\\site-packages\\great_expectations\\data_context\\data_context\\file_data_context.py:63\u001B[39m, in \u001B[36mFileDataContext.__init__\u001B[39m\u001B[34m(self, project_config, context_root_dir, project_root_dir, runtime_environment, user_agent_str)\u001B[39m\n\u001B[32m     57\u001B[39m \u001B[38;5;28mself\u001B[39m._context_root_directory = \u001B[38;5;28mself\u001B[39m._init_context_root_directory(\n\u001B[32m     58\u001B[39m     context_root_dir=context_root_dir,\n\u001B[32m     59\u001B[39m     project_root_dir=project_root_dir,\n\u001B[32m     60\u001B[39m )\n\u001B[32m     61\u001B[39m \u001B[38;5;28mself\u001B[39m._scaffold_project()\n\u001B[32m---> \u001B[39m\u001B[32m63\u001B[39m \u001B[38;5;28mself\u001B[39m._project_config = \u001B[38;5;28;43mself\u001B[39;49m\u001B[43m.\u001B[49m\u001B[43m_init_project_config\u001B[49m\u001B[43m(\u001B[49m\u001B[43mproject_config\u001B[49m\u001B[43m)\u001B[49m\n\u001B[32m     64\u001B[39m \u001B[38;5;28msuper\u001B[39m().\u001B[34m__init__\u001B[39m(\n\u001B[32m     65\u001B[39m     context_root_dir=\u001B[38;5;28mself\u001B[39m._context_root_directory,\n\u001B[32m     66\u001B[39m     runtime_environment=runtime_environment,\n\u001B[32m     67\u001B[39m     user_agent_str=user_agent_str,\n\u001B[32m     68\u001B[39m )\n",
      "\u001B[36mFile \u001B[39m\u001B[32mc:\\Users\\46722\\Desktop\\python-bank-projekt\\venv311\\Lib\\site-packages\\great_expectations\\data_context\\data_context\\file_data_context.py:114\u001B[39m, in \u001B[36mFileDataContext._init_project_config\u001B[39m\u001B[34m(self, project_config)\u001B[39m\n\u001B[32m    112\u001B[39m     project_config = FileDataContext.get_or_create_data_context_config(project_config)\n\u001B[32m    113\u001B[39m \u001B[38;5;28;01melse\u001B[39;00m:\n\u001B[32m--> \u001B[39m\u001B[32m114\u001B[39m     project_config = \u001B[43mFileDataContext\u001B[49m\u001B[43m.\u001B[49m\u001B[43m_load_file_backed_project_config\u001B[49m\u001B[43m(\u001B[49m\n\u001B[32m    115\u001B[39m \u001B[43m        \u001B[49m\u001B[43mcontext_root_directory\u001B[49m\u001B[43m=\u001B[49m\u001B[38;5;28;43mself\u001B[39;49m\u001B[43m.\u001B[49m\u001B[43m_context_root_directory\u001B[49m\u001B[43m,\u001B[49m\n\u001B[32m    116\u001B[39m \u001B[43m    \u001B[49m\u001B[43m)\u001B[49m\n\u001B[32m    117\u001B[39m \u001B[38;5;28;01mreturn\u001B[39;00m project_config\n",
      "\u001B[36mFile \u001B[39m\u001B[32mc:\\Users\\46722\\Desktop\\python-bank-projekt\\venv311\\Lib\\site-packages\\great_expectations\\data_context\\data_context\\file_data_context.py:209\u001B[39m, in \u001B[36mFileDataContext._load_file_backed_project_config\u001B[39m\u001B[34m(cls, context_root_directory)\u001B[39m\n\u001B[32m    206\u001B[39m     \u001B[38;5;28;01mraise\u001B[39;00m gx_exceptions.ConfigNotFoundError()\n\u001B[32m    208\u001B[39m \u001B[38;5;28;01mtry\u001B[39;00m:\n\u001B[32m--> \u001B[39m\u001B[32m209\u001B[39m     \u001B[38;5;28;01mreturn\u001B[39;00m \u001B[43mDataContextConfig\u001B[49m\u001B[43m.\u001B[49m\u001B[43mfrom_commented_map\u001B[49m\u001B[43m(\u001B[49m\n\u001B[32m    210\u001B[39m \u001B[43m        \u001B[49m\u001B[43mcommented_map\u001B[49m\u001B[43m=\u001B[49m\u001B[43mconfig_commented_map_from_yaml\u001B[49m\n\u001B[32m    211\u001B[39m \u001B[43m    \u001B[49m\u001B[43m)\u001B[49m\n\u001B[32m    212\u001B[39m \u001B[38;5;28;01mexcept\u001B[39;00m gx_exceptions.InvalidDataContextConfigError:  \u001B[38;5;66;03m# noqa: TRY203 # FIXME CoP\u001B[39;00m\n\u001B[32m    213\u001B[39m     \u001B[38;5;66;03m# Just to be explicit about what we intended to catch\u001B[39;00m\n\u001B[32m    214\u001B[39m     \u001B[38;5;28;01mraise\u001B[39;00m\n",
      "\u001B[36mFile \u001B[39m\u001B[32mc:\\Users\\46722\\Desktop\\python-bank-projekt\\venv311\\Lib\\site-packages\\great_expectations\\data_context\\types\\base.py:127\u001B[39m, in \u001B[36mBaseYamlConfig.from_commented_map\u001B[39m\u001B[34m(cls, commented_map)\u001B[39m\n\u001B[32m    125\u001B[39m \u001B[38;5;28;01mtry\u001B[39;00m:\n\u001B[32m    126\u001B[39m     schema_instance: Schema = \u001B[38;5;28mcls\u001B[39m._get_schema_instance()\n\u001B[32m--> \u001B[39m\u001B[32m127\u001B[39m     config: Union[\u001B[38;5;28mdict\u001B[39m, BYC] = \u001B[43mschema_instance\u001B[49m\u001B[43m.\u001B[49m\u001B[43mload\u001B[49m\u001B[43m(\u001B[49m\u001B[43mcommented_map\u001B[49m\u001B[43m)\u001B[49m\n\u001B[32m    128\u001B[39m     \u001B[38;5;28;01mif\u001B[39;00m \u001B[38;5;28misinstance\u001B[39m(config, \u001B[38;5;28mdict\u001B[39m):\n\u001B[32m    129\u001B[39m         \u001B[38;5;28;01mreturn\u001B[39;00m \u001B[38;5;28mcls\u001B[39m.get_config_class()(commented_map=commented_map, **config)\n",
      "\u001B[36mFile \u001B[39m\u001B[32mc:\\Users\\46722\\Desktop\\python-bank-projekt\\venv311\\Lib\\site-packages\\marshmallow\\schema.py:792\u001B[39m, in \u001B[36mSchema.load\u001B[39m\u001B[34m(self, data, many, partial, unknown)\u001B[39m\n\u001B[32m    761\u001B[39m \u001B[38;5;28;01mdef\u001B[39;00m\u001B[38;5;250m \u001B[39m\u001B[34mload\u001B[39m(\n\u001B[32m    762\u001B[39m     \u001B[38;5;28mself\u001B[39m,\n\u001B[32m    763\u001B[39m     data: (\n\u001B[32m   (...)\u001B[39m\u001B[32m    770\u001B[39m     unknown: \u001B[38;5;28mstr\u001B[39m | \u001B[38;5;28;01mNone\u001B[39;00m = \u001B[38;5;28;01mNone\u001B[39;00m,\n\u001B[32m    771\u001B[39m ):\n\u001B[32m    772\u001B[39m \u001B[38;5;250m    \u001B[39m\u001B[33;03m\"\"\"Deserialize a data structure to an object defined by this Schema's fields.\u001B[39;00m\n\u001B[32m    773\u001B[39m \n\u001B[32m    774\u001B[39m \u001B[33;03m    :param data: The data to deserialize.\u001B[39;00m\n\u001B[32m   (...)\u001B[39m\u001B[32m    790\u001B[39m \u001B[33;03m        if invalid data are passed.\u001B[39;00m\n\u001B[32m    791\u001B[39m \u001B[33;03m    \"\"\"\u001B[39;00m\n\u001B[32m--> \u001B[39m\u001B[32m792\u001B[39m     \u001B[38;5;28;01mreturn\u001B[39;00m \u001B[38;5;28;43mself\u001B[39;49m\u001B[43m.\u001B[49m\u001B[43m_do_load\u001B[49m\u001B[43m(\u001B[49m\n\u001B[32m    793\u001B[39m \u001B[43m        \u001B[49m\u001B[43mdata\u001B[49m\u001B[43m,\u001B[49m\u001B[43m \u001B[49m\u001B[43mmany\u001B[49m\u001B[43m=\u001B[49m\u001B[43mmany\u001B[49m\u001B[43m,\u001B[49m\u001B[43m \u001B[49m\u001B[43mpartial\u001B[49m\u001B[43m=\u001B[49m\u001B[43mpartial\u001B[49m\u001B[43m,\u001B[49m\u001B[43m \u001B[49m\u001B[43munknown\u001B[49m\u001B[43m=\u001B[49m\u001B[43munknown\u001B[49m\u001B[43m,\u001B[49m\u001B[43m \u001B[49m\u001B[43mpostprocess\u001B[49m\u001B[43m=\u001B[49m\u001B[38;5;28;43;01mTrue\u001B[39;49;00m\n\u001B[32m    794\u001B[39m \u001B[43m    \u001B[49m\u001B[43m)\u001B[49m\n",
      "\u001B[36mFile \u001B[39m\u001B[32mc:\\Users\\46722\\Desktop\\python-bank-projekt\\venv311\\Lib\\site-packages\\marshmallow\\schema.py:998\u001B[39m, in \u001B[36mSchema._do_load\u001B[39m\u001B[34m(self, data, many, partial, unknown, postprocess)\u001B[39m\n\u001B[32m    996\u001B[39m \u001B[38;5;28;01mif\u001B[39;00m errors:\n\u001B[32m    997\u001B[39m     exc = ValidationError(errors, data=data, valid_data=result)\n\u001B[32m--> \u001B[39m\u001B[32m998\u001B[39m     \u001B[38;5;28;43mself\u001B[39;49m\u001B[43m.\u001B[49m\u001B[43mhandle_error\u001B[49m\u001B[43m(\u001B[49m\u001B[43mexc\u001B[49m\u001B[43m,\u001B[49m\u001B[43m \u001B[49m\u001B[43mdata\u001B[49m\u001B[43m,\u001B[49m\u001B[43m \u001B[49m\u001B[43mmany\u001B[49m\u001B[43m=\u001B[49m\u001B[43mmany\u001B[49m\u001B[43m,\u001B[49m\u001B[43m \u001B[49m\u001B[43mpartial\u001B[49m\u001B[43m=\u001B[49m\u001B[43mpartial\u001B[49m\u001B[43m)\u001B[49m\n\u001B[32m    999\u001B[39m     \u001B[38;5;28;01mraise\u001B[39;00m exc\n\u001B[32m   1001\u001B[39m \u001B[38;5;28;01mreturn\u001B[39;00m result\n",
      "\u001B[36mFile \u001B[39m\u001B[32mc:\\Users\\46722\\Desktop\\python-bank-projekt\\venv311\\Lib\\site-packages\\great_expectations\\data_context\\types\\base.py:1145\u001B[39m, in \u001B[36mDataContextConfigSchema.handle_error\u001B[39m\u001B[34m(self, exc, data, **kwargs)\u001B[39m\n\u001B[32m   1143\u001B[39m message: \u001B[38;5;28mstr\u001B[39m = \u001B[33mf\u001B[39m\u001B[33m\"\u001B[39m\u001B[33mError while processing DataContextConfig: \u001B[39m\u001B[38;5;132;01m{\u001B[39;00m\u001B[33m'\u001B[39m\u001B[33m \u001B[39m\u001B[33m'\u001B[39m.join(exc.messages)\u001B[38;5;132;01m}\u001B[39;00m\u001B[33m\"\u001B[39m\n\u001B[32m   1144\u001B[39m logger.error(message)\n\u001B[32m-> \u001B[39m\u001B[32m1145\u001B[39m \u001B[38;5;28;01mraise\u001B[39;00m gx_exceptions.InvalidDataContextConfigError(\n\u001B[32m   1146\u001B[39m     message=message,\n\u001B[32m   1147\u001B[39m )\n",
      "\u001B[31mInvalidDataContextConfigError\u001B[39m: Error while processing DataContextConfig: datasources notebooks validations_store_name evaluation_parameter_store_name include_rendered_content anonymous_usage_statistics"
     ]
    }
   ],
   "source": "\n"
  },
  {
   "cell_type": "code",
   "execution_count": 30,
   "id": "0c53c127",
   "metadata": {},
   "outputs": [],
   "source": "\n"
  },
  {
   "cell_type": "code",
   "execution_count": 31,
   "id": "27b6014f",
   "metadata": {},
   "outputs": [
    {
     "name": "stdout",
     "output_type": "stream",
     "text": [
      "✅ تم إنشاء السياق بنجاح!\n"
     ]
    }
   ],
   "source": [
    "\n",
    "\n"
   ]
  },
  {
   "cell_type": "code",
   "execution_count": 32,
   "id": "708bfd0b",
   "metadata": {},
   "outputs": [
    {
     "name": "stderr",
     "output_type": "stream",
     "text": [
      "c:\\Users\\46722\\Desktop\\python-bank-projekt\\venv311\\Lib\\site-packages\\great_expectations\\data_context\\data_context\\abstract_data_context.py:821: DeprecationWarning: add_or_update_datasource() from the DataContext is deprecated and will be removed in a future version of GX. Please use `context.data_sources.add_or_update` instead.\n",
      "  warnings.warn(\n"
     ]
    },
    {
     "ename": "ValueError",
     "evalue": "Either datasource or kwargs are required",
     "output_type": "error",
     "traceback": [
      "\u001B[31m---------------------------------------------------------------------------\u001B[39m",
      "\u001B[31mValueError\u001B[39m                                Traceback (most recent call last)",
      "\u001B[36mCell\u001B[39m\u001B[36m \u001B[39m\u001B[32mIn[32]\u001B[39m\u001B[32m, line 8\u001B[39m\n\u001B[32m      6\u001B[39m \u001B[38;5;66;03m# إنشاء datasource\u001B[39;00m\n\u001B[32m      7\u001B[39m ds = PandasDatasource(name=\u001B[33m\"\u001B[39m\u001B[33mmy_pandas_ds\u001B[39m\u001B[33m\"\u001B[39m)\n\u001B[32m----> \u001B[39m\u001B[32m8\u001B[39m \u001B[43mcontext\u001B[49m\u001B[43m.\u001B[49m\u001B[43madd_or_update_datasource\u001B[49m\u001B[43m(\u001B[49m\u001B[43mds\u001B[49m\u001B[43m)\u001B[49m\n\u001B[32m     10\u001B[39m \u001B[38;5;66;03m# إنشاء asset من نوع DataFrame\u001B[39;00m\n\u001B[32m     11\u001B[39m asset = ds.add_dataframe_asset(name=\u001B[33m\"\u001B[39m\u001B[33mtransactions_asset\u001B[39m\u001B[33m\"\u001B[39m)\n",
      "\u001B[36mFile \u001B[39m\u001B[32mc:\\Users\\46722\\Desktop\\python-bank-projekt\\venv311\\Lib\\site-packages\\great_expectations\\data_context\\data_context\\abstract_data_context.py:839\u001B[39m, in \u001B[36mAbstractDataContext.add_or_update_datasource\u001B[39m\u001B[34m(self, name, datasource, **kwargs)\u001B[39m\n\u001B[32m    837\u001B[39m \u001B[38;5;28;01melse\u001B[39;00m:\n\u001B[32m    838\u001B[39m     \u001B[38;5;28;01mif\u001B[39;00m datasource \u001B[38;5;129;01mis\u001B[39;00m \u001B[38;5;28;01mNone\u001B[39;00m:\n\u001B[32m--> \u001B[39m\u001B[32m839\u001B[39m         \u001B[38;5;28;01mraise\u001B[39;00m \u001B[38;5;167;01mValueError\u001B[39;00m(\u001B[33m\"\u001B[39m\u001B[33mEither datasource or kwargs are required\u001B[39m\u001B[33m\"\u001B[39m)  \u001B[38;5;66;03m# noqa: TRY003 # FIXME CoP\u001B[39;00m\n\u001B[32m    840\u001B[39m     \u001B[38;5;28;01mif\u001B[39;00m datasource.name \u001B[38;5;129;01min\u001B[39;00m \u001B[38;5;28mself\u001B[39m.data_sources.all():\n\u001B[32m    841\u001B[39m         \u001B[38;5;28mself\u001B[39m._update_fluent_datasource(datasource=datasource)\n",
      "\u001B[31mValueError\u001B[39m: Either datasource or kwargs are required"
     ]
    }
   ],
   "source": "\n"
  },
  {
   "cell_type": "code",
   "execution_count": 33,
   "id": "d6b30bf9",
   "metadata": {},
   "outputs": [],
   "source": "\n"
  },
  {
   "cell_type": "code",
   "execution_count": 34,
   "id": "d7c13e13",
   "metadata": {},
   "outputs": [
    {
     "ename": "AttributeError",
     "evalue": "'FileDataContext' object has no attribute 'sources'",
     "output_type": "error",
     "traceback": [
      "\u001B[31m---------------------------------------------------------------------------\u001B[39m",
      "\u001B[31mAttributeError\u001B[39m                            Traceback (most recent call last)",
      "\u001B[36mCell\u001B[39m\u001B[36m \u001B[39m\u001B[32mIn[34]\u001B[39m\u001B[32m, line 2\u001B[39m\n\u001B[32m      1\u001B[39m \u001B[38;5;66;03m# ✅ الطريقة الصحيحة في GX 1.5.3:\u001B[39;00m\n\u001B[32m----> \u001B[39m\u001B[32m2\u001B[39m ds = \u001B[43mcontext\u001B[49m\u001B[43m.\u001B[49m\u001B[43msources\u001B[49m.add_pandas(name=\u001B[33m\"\u001B[39m\u001B[33mmy_pandas_ds\u001B[39m\u001B[33m\"\u001B[39m)\n",
      "\u001B[31mAttributeError\u001B[39m: 'FileDataContext' object has no attribute 'sources'"
     ]
    }
   ],
   "source": "\n"
  },
  {
   "cell_type": "code",
   "execution_count": 35,
   "id": "1f3614fc",
   "metadata": {},
   "outputs": [],
   "source": "\n"
  },
  {
   "cell_type": "code",
   "execution_count": 36,
   "id": "1d8f83c2",
   "metadata": {},
   "outputs": [],
   "source": "\n"
  },
  {
   "cell_type": "code",
   "execution_count": 37,
   "id": "499b6efe",
   "metadata": {},
   "outputs": [
    {
     "name": "stderr",
     "output_type": "stream",
     "text": [
      "c:\\Users\\46722\\Desktop\\python-bank-projekt\\venv311\\Lib\\site-packages\\great_expectations\\data_context\\data_context\\abstract_data_context.py:821: DeprecationWarning: add_or_update_datasource() from the DataContext is deprecated and will be removed in a future version of GX. Please use `context.data_sources.add_or_update` instead.\n",
      "  warnings.warn(\n"
     ]
    },
    {
     "ename": "AttributeError",
     "evalue": "'dict' object has no attribute 'datasource_name'",
     "output_type": "error",
     "traceback": [
      "\u001B[31m---------------------------------------------------------------------------\u001B[39m",
      "\u001B[31mAttributeError\u001B[39m                            Traceback (most recent call last)",
      "\u001B[36mCell\u001B[39m\u001B[36m \u001B[39m\u001B[32mIn[37]\u001B[39m\u001B[32m, line 13\u001B[39m\n\u001B[32m     11\u001B[39m \u001B[38;5;66;03m# إضافة الـ DataFrame كـ asset\u001B[39;00m\n\u001B[32m     12\u001B[39m asset = ds.add_dataframe_asset(name=\u001B[33m\"\u001B[39m\u001B[33mtransactions_asset\u001B[39m\u001B[33m\"\u001B[39m)\n\u001B[32m---> \u001B[39m\u001B[32m13\u001B[39m batch = \u001B[43masset\u001B[49m\u001B[43m.\u001B[49m\u001B[43mget_batch\u001B[49m\u001B[43m(\u001B[49m\u001B[43m{\u001B[49m\u001B[33;43m\"\u001B[39;49m\u001B[33;43mdataframe\u001B[39;49m\u001B[33;43m\"\u001B[39;49m\u001B[43m:\u001B[49m\u001B[43m \u001B[49m\u001B[43mdf\u001B[49m\u001B[43m}\u001B[49m\u001B[43m)\u001B[49m\n\u001B[32m     15\u001B[39m \u001B[38;5;28mprint\u001B[39m(\u001B[33m\"\u001B[39m\u001B[33m✅ كل شيء تمام الآن وتم تحميل البيانات بنجاح 🎉\u001B[39m\u001B[33m\"\u001B[39m)\n",
      "\u001B[36mFile \u001B[39m\u001B[32mc:\\Users\\46722\\Desktop\\python-bank-projekt\\venv311\\Lib\\site-packages\\great_expectations\\datasource\\fluent\\pandas_datasource.py:466\u001B[39m, in \u001B[36mget_batch\u001B[39m\u001B[34m(self, batch_request)\u001B[39m\n\u001B[32m    461\u001B[39m assets: MutableSequence[_DataAssetT] = []\n\u001B[32m    463\u001B[39m \u001B[38;5;66;03m# Abstract Methods\u001B[39;00m\n\u001B[32m    464\u001B[39m \u001B[38;5;129m@property\u001B[39m\n\u001B[32m    465\u001B[39m \u001B[38;5;129m@override\u001B[39m\n\u001B[32m--> \u001B[39m\u001B[32m466\u001B[39m \u001B[38;5;28;01mdef\u001B[39;00m\u001B[38;5;250m \u001B[39m\u001B[34mexecution_engine_type\u001B[39m(\u001B[38;5;28mself\u001B[39m) -> Type[PandasExecutionEngine]:\n\u001B[32m    467\u001B[39m \u001B[38;5;250m    \u001B[39m\u001B[33;03m\"\"\"Return the PandasExecutionEngine unless the override is set\"\"\"\u001B[39;00m\n\u001B[32m    468\u001B[39m     \u001B[38;5;28;01mfrom\u001B[39;00m\u001B[38;5;250m \u001B[39m\u001B[34;01mgreat_expectations\u001B[39;00m\u001B[34;01m.\u001B[39;00m\u001B[34;01mexecution_engine\u001B[39;00m\u001B[34;01m.\u001B[39;00m\u001B[34;01mpandas_execution_engine\u001B[39;00m\u001B[38;5;250m \u001B[39m\u001B[38;5;28;01mimport\u001B[39;00m (\n\u001B[32m    469\u001B[39m         PandasExecutionEngine,\n\u001B[32m    470\u001B[39m     )\n",
      "\u001B[36mFile \u001B[39m\u001B[32mc:\\Users\\46722\\Desktop\\python-bank-projekt\\venv311\\Lib\\site-packages\\great_expectations\\datasource\\fluent\\pandas_datasource.py:441\u001B[39m, in \u001B[36m_validate_batch_request\u001B[39m\u001B[34m(self, batch_request)\u001B[39m\n\u001B[32m      0\u001B[39m <Error retrieving source code with stack_data see ipython/ipython#13598>\n",
      "\u001B[31mAttributeError\u001B[39m: 'dict' object has no attribute 'datasource_name'"
     ]
    }
   ],
   "source": "\n"
  },
  {
   "cell_type": "code",
   "execution_count": 38,
   "id": "cae5794d",
   "metadata": {},
   "outputs": [
    {
     "name": "stderr",
     "output_type": "stream",
     "text": [
      "c:\\Users\\46722\\Desktop\\python-bank-projekt\\venv311\\Lib\\site-packages\\great_expectations\\data_context\\data_context\\abstract_data_context.py:821: DeprecationWarning: add_or_update_datasource() from the DataContext is deprecated and will be removed in a future version of GX. Please use `context.data_sources.add_or_update` instead.\n",
      "  warnings.warn(\n"
     ]
    },
    {
     "ename": "AttributeError",
     "evalue": "'DataFrameAsset' object has no attribute 'build_batch'",
     "output_type": "error",
     "traceback": [
      "\u001B[31m---------------------------------------------------------------------------\u001B[39m",
      "\u001B[31mAttributeError\u001B[39m                            Traceback (most recent call last)",
      "\u001B[36mCell\u001B[39m\u001B[36m \u001B[39m\u001B[32mIn[38]\u001B[39m\u001B[32m, line 15\u001B[39m\n\u001B[32m     12\u001B[39m asset = ds.add_dataframe_asset(name=\u001B[33m\"\u001B[39m\u001B[33mtransactions_asset\u001B[39m\u001B[33m\"\u001B[39m)\n\u001B[32m     14\u001B[39m \u001B[38;5;66;03m# ✅ الطريقة الحديثة الصحيحة\u001B[39;00m\n\u001B[32m---> \u001B[39m\u001B[32m15\u001B[39m batch = \u001B[43masset\u001B[49m\u001B[43m.\u001B[49m\u001B[43mbuild_batch\u001B[49m(dataframe=df)\n\u001B[32m     17\u001B[39m \u001B[38;5;28mprint\u001B[39m(\u001B[33m\"\u001B[39m\u001B[33m✅ كل شيء تمام وتم إنشاء الـ batch بنجاح 🎉\u001B[39m\u001B[33m\"\u001B[39m)\n",
      "\u001B[31mAttributeError\u001B[39m: 'DataFrameAsset' object has no attribute 'build_batch'"
     ]
    }
   ],
   "source": "\n"
  },
  {
   "cell_type": "code",
   "execution_count": 39,
   "id": "6c402671",
   "metadata": {},
   "outputs": [
    {
     "name": "stdout",
     "output_type": "stream",
     "text": [
      "1.5.3\n"
     ]
    }
   ],
   "source": "\n"
  },
  {
   "cell_type": "code",
   "execution_count": 42,
   "id": "7866267a",
   "metadata": {},
   "outputs": [
    {
     "name": "stderr",
     "output_type": "stream",
     "text": [
      "c:\\Users\\46722\\Desktop\\python-bank-projekt\\venv311\\Lib\\site-packages\\great_expectations\\data_context\\data_context\\serializable_data_context.py:159: UserWarning: Warning. An existing `great_expectations.yml` was found here: c:\\Users\\46722\\Desktop\\python-bank-projekt\\gx_project.\n",
      "    - No action was taken.\n",
      "  warnings.warn(message)\n",
      "c:\\Users\\46722\\Desktop\\python-bank-projekt\\venv311\\Lib\\site-packages\\great_expectations\\data_context\\data_context\\serializable_data_context.py:167: UserWarning: Warning. An existing `config_variables.yml` was found here:\n",
      "            c:\\Users\\46722\\Desktop\\python-bank-projekt\\gx_project\\uncommitted. - No action was taken.\n",
      "  warnings.warn(message)\n"
     ]
    },
    {
     "ename": "TypeError",
     "evalue": "DataFrameAsset.get_batch() got an unexpected keyword argument 'dataframe'",
     "output_type": "error",
     "traceback": [
      "\u001B[31m---------------------------------------------------------------------------\u001B[39m",
      "\u001B[31mTypeError\u001B[39m                                 Traceback (most recent call last)",
      "\u001B[36mCell\u001B[39m\u001B[36m \u001B[39m\u001B[32mIn[42]\u001B[39m\u001B[32m, line 18\u001B[39m\n\u001B[32m     15\u001B[39m asset = ds.add_dataframe_asset(name=\u001B[33m\"\u001B[39m\u001B[33mtransactions_asset\u001B[39m\u001B[33m\"\u001B[39m)\n\u001B[32m     17\u001B[39m \u001B[38;5;66;03m# 5. تحميل الـ DataFrame كـ batch\u001B[39;00m\n\u001B[32m---> \u001B[39m\u001B[32m18\u001B[39m batch = \u001B[43masset\u001B[49m\u001B[43m.\u001B[49m\u001B[43mget_batch\u001B[49m\u001B[43m(\u001B[49m\u001B[43mdataframe\u001B[49m\u001B[43m=\u001B[49m\u001B[43mdf\u001B[49m\u001B[43m)\u001B[49m\n\u001B[32m     20\u001B[39m \u001B[38;5;28mprint\u001B[39m(\u001B[33m\"\u001B[39m\u001B[33m✅ كل شي شغّال وتم تحميل الـ DataFrame بنجاح 🎉\u001B[39m\u001B[33m\"\u001B[39m)\n",
      "\u001B[31mTypeError\u001B[39m: DataFrameAsset.get_batch() got an unexpected keyword argument 'dataframe'"
     ]
    }
   ],
   "source": ""
  },
  {
   "cell_type": "code",
   "execution_count": 43,
   "id": "7b5ee083",
   "metadata": {},
   "outputs": [
    {
     "ename": "ValidationError",
     "evalue": "2 validation errors for BatchRequest\nbatch_identifiers\n  extra fields not permitted (type=value_error.extra)\nruntime_parameters\n  extra fields not permitted (type=value_error.extra)",
     "output_type": "error",
     "traceback": [
      "\u001B[31m---------------------------------------------------------------------------\u001B[39m",
      "\u001B[31mValidationError\u001B[39m                           Traceback (most recent call last)",
      "\u001B[36mCell\u001B[39m\u001B[36m \u001B[39m\u001B[32mIn[43]\u001B[39m\u001B[32m, line 4\u001B[39m\n\u001B[32m      1\u001B[39m \u001B[38;5;28;01mfrom\u001B[39;00m\u001B[38;5;250m \u001B[39m\u001B[34;01mgreat_expectations\u001B[39;00m\u001B[34;01m.\u001B[39;00m\u001B[34;01mdatasource\u001B[39;00m\u001B[34;01m.\u001B[39;00m\u001B[34;01mfluent\u001B[39;00m\u001B[34;01m.\u001B[39;00m\u001B[34;01mbatch_request\u001B[39;00m\u001B[38;5;250m \u001B[39m\u001B[38;5;28;01mimport\u001B[39;00m BatchRequest\n\u001B[32m      3\u001B[39m \u001B[38;5;66;03m# 1. إنشاء BatchRequest باستخدام DataFrame\u001B[39;00m\n\u001B[32m----> \u001B[39m\u001B[32m4\u001B[39m batch_request = \u001B[43mBatchRequest\u001B[49m\u001B[43m(\u001B[49m\n\u001B[32m      5\u001B[39m \u001B[43m    \u001B[49m\u001B[43mdatasource_name\u001B[49m\u001B[43m=\u001B[49m\u001B[33;43m\"\u001B[39;49m\u001B[33;43mmy_pandas_ds\u001B[39;49m\u001B[33;43m\"\u001B[39;49m\u001B[43m,\u001B[49m\u001B[43m         \u001B[49m\u001B[38;5;66;43;03m# نفس الاسم اللي سجلته فيه\u001B[39;49;00m\n\u001B[32m      6\u001B[39m \u001B[43m    \u001B[49m\u001B[43mdata_asset_name\u001B[49m\u001B[43m=\u001B[49m\u001B[33;43m\"\u001B[39;49m\u001B[33;43mtransactions_asset\u001B[39;49m\u001B[33;43m\"\u001B[39;49m\u001B[43m,\u001B[49m\u001B[43m   \u001B[49m\u001B[38;5;66;43;03m# اسم الـ asset اللي سجلته فيه\u001B[39;49;00m\n\u001B[32m      7\u001B[39m \u001B[43m    \u001B[49m\u001B[43mruntime_parameters\u001B[49m\u001B[43m=\u001B[49m\u001B[43m{\u001B[49m\u001B[33;43m\"\u001B[39;49m\u001B[33;43mbatch_data\u001B[39;49m\u001B[33;43m\"\u001B[39;49m\u001B[43m:\u001B[49m\u001B[43m \u001B[49m\u001B[43mdf\u001B[49m\u001B[43m}\u001B[49m\u001B[43m,\u001B[49m\u001B[43m  \u001B[49m\u001B[38;5;66;43;03m# نمرر الـ DataFrame هنا\u001B[39;49;00m\n\u001B[32m      8\u001B[39m \u001B[43m    \u001B[49m\u001B[43mbatch_identifiers\u001B[49m\u001B[43m=\u001B[49m\u001B[43m{\u001B[49m\u001B[33;43m\"\u001B[39;49m\u001B[33;43mdefault_identifier_name\u001B[39;49m\u001B[33;43m\"\u001B[39;49m\u001B[43m:\u001B[49m\u001B[43m \u001B[49m\u001B[33;43m\"\u001B[39;49m\u001B[33;43mdefault_id\u001B[39;49m\u001B[33;43m\"\u001B[39;49m\u001B[43m}\u001B[49m\n\u001B[32m      9\u001B[39m \u001B[43m)\u001B[49m\n\u001B[32m     11\u001B[39m \u001B[38;5;66;03m# 2. تحميل الـ batch من السياق\u001B[39;00m\n\u001B[32m     12\u001B[39m batch = context.get_batch(batch_request=batch_request)\n",
      "\u001B[36mFile \u001B[39m\u001B[32mc:\\Users\\46722\\Desktop\\python-bank-projekt\\venv311\\Lib\\site-packages\\great_expectations\\datasource\\fluent\\batch_request.py:94\u001B[39m, in \u001B[36mBatchRequest.__init__\u001B[39m\u001B[34m(self, **kwargs)\u001B[39m\n\u001B[32m     92\u001B[39m \u001B[38;5;28;01mif\u001B[39;00m \u001B[33m\"\u001B[39m\u001B[33mbatch_slice\u001B[39m\u001B[33m\"\u001B[39m \u001B[38;5;129;01min\u001B[39;00m kwargs:\n\u001B[32m     93\u001B[39m     _batch_slice_input = kwargs.pop(\u001B[33m\"\u001B[39m\u001B[33mbatch_slice\u001B[39m\u001B[33m\"\u001B[39m)\n\u001B[32m---> \u001B[39m\u001B[32m94\u001B[39m \u001B[38;5;28;43msuper\u001B[39;49m\u001B[43m(\u001B[49m\u001B[43m)\u001B[49m\u001B[43m.\u001B[49m\u001B[34;43m__init__\u001B[39;49m\u001B[43m(\u001B[49m\u001B[43m*\u001B[49m\u001B[43m*\u001B[49m\u001B[43mkwargs\u001B[49m\u001B[43m)\u001B[49m\n\u001B[32m     95\u001B[39m \u001B[38;5;28mself\u001B[39m._batch_slice_input = _batch_slice_input\n",
      "\u001B[36mFile \u001B[39m\u001B[32mc:\\Users\\46722\\Desktop\\python-bank-projekt\\venv311\\Lib\\site-packages\\pydantic\\v1\\main.py:347\u001B[39m, in \u001B[36mBaseModel.__init__\u001B[39m\u001B[34m(__pydantic_self__, **data)\u001B[39m\n\u001B[32m    345\u001B[39m values, fields_set, validation_error = validate_model(__pydantic_self__.\u001B[34m__class__\u001B[39m, data)\n\u001B[32m    346\u001B[39m \u001B[38;5;28;01mif\u001B[39;00m validation_error:\n\u001B[32m--> \u001B[39m\u001B[32m347\u001B[39m     \u001B[38;5;28;01mraise\u001B[39;00m validation_error\n\u001B[32m    348\u001B[39m \u001B[38;5;28;01mtry\u001B[39;00m:\n\u001B[32m    349\u001B[39m     object_setattr(__pydantic_self__, \u001B[33m'\u001B[39m\u001B[33m__dict__\u001B[39m\u001B[33m'\u001B[39m, values)\n",
      "\u001B[31mValidationError\u001B[39m: 2 validation errors for BatchRequest\nbatch_identifiers\n  extra fields not permitted (type=value_error.extra)\nruntime_parameters\n  extra fields not permitted (type=value_error.extra)"
     ]
    }
   ],
   "source": "\n"
  },
  {
   "cell_type": "code",
   "execution_count": 44,
   "id": "9560d86e",
   "metadata": {},
   "outputs": [
    {
     "ename": "AttributeError",
     "evalue": "'DataFrameAsset' object has no attribute 'get_batch_from_dataframe'",
     "output_type": "error",
     "traceback": [
      "\u001B[31m---------------------------------------------------------------------------\u001B[39m",
      "\u001B[31mAttributeError\u001B[39m                            Traceback (most recent call last)",
      "\u001B[36mCell\u001B[39m\u001B[36m \u001B[39m\u001B[32mIn[44]\u001B[39m\u001B[32m, line 2\u001B[39m\n\u001B[32m      1\u001B[39m \u001B[38;5;66;03m# ✅ تحميل batch مباشرة من الـ asset\u001B[39;00m\n\u001B[32m----> \u001B[39m\u001B[32m2\u001B[39m batch = \u001B[43masset\u001B[49m\u001B[43m.\u001B[49m\u001B[43mget_batch_from_dataframe\u001B[49m(df)\n\u001B[32m      4\u001B[39m \u001B[38;5;28mprint\u001B[39m(\u001B[33m\"\u001B[39m\u001B[33m✅ تم تحميل الـ DataFrame على شكل batch بنجاح!\u001B[39m\u001B[33m\"\u001B[39m)\n",
      "\u001B[31mAttributeError\u001B[39m: 'DataFrameAsset' object has no attribute 'get_batch_from_dataframe'"
     ]
    }
   ],
   "source": "\n"
  },
  {
   "cell_type": "code",
   "execution_count": 45,
   "id": "5785400b",
   "metadata": {},
   "outputs": [
    {
     "ename": "ModuleNotFoundError",
     "evalue": "No module named 'great_expectations.experimental.datasources'",
     "output_type": "error",
     "traceback": [
      "\u001B[31m---------------------------------------------------------------------------\u001B[39m",
      "\u001B[31mModuleNotFoundError\u001B[39m                       Traceback (most recent call last)",
      "\u001B[36mCell\u001B[39m\u001B[36m \u001B[39m\u001B[32mIn[45]\u001B[39m\u001B[32m, line 1\u001B[39m\n\u001B[32m----> \u001B[39m\u001B[32m1\u001B[39m \u001B[38;5;28;01mfrom\u001B[39;00m\u001B[38;5;250m \u001B[39m\u001B[34;01mgreat_expectations\u001B[39;00m\u001B[34;01m.\u001B[39;00m\u001B[34;01mexperimental\u001B[39;00m\u001B[34;01m.\u001B[39;00m\u001B[34;01mdatasources\u001B[39;00m\u001B[34;01m.\u001B[39;00m\u001B[34;01mdynamic_pandas\u001B[39;00m\u001B[38;5;250m \u001B[39m\u001B[38;5;28;01mimport\u001B[39;00m BatchRequest\n\u001B[32m      3\u001B[39m \u001B[38;5;66;03m# 1. استخدام batch request مخصص للـ runtime\u001B[39;00m\n\u001B[32m      4\u001B[39m batch_request = asset.build_batch_request(dataframe=df)\n",
      "\u001B[31mModuleNotFoundError\u001B[39m: No module named 'great_expectations.experimental.datasources'"
     ]
    }
   ],
   "source": "\n"
  },
  {
   "cell_type": "code",
   "execution_count": 46,
   "id": "09754e76",
   "metadata": {},
   "outputs": [
    {
     "name": "stdout",
     "output_type": "stream",
     "text": [
      "✅ تم إنشاء السياق بنجاح!\n"
     ]
    },
    {
     "ename": "DataContextError",
     "evalue": "Can not write the fluent datasource my_pandas_ds because a datasource of that name already exists in the data context.",
     "output_type": "error",
     "traceback": [
      "\u001B[31m---------------------------------------------------------------------------\u001B[39m",
      "\u001B[31mDataContextError\u001B[39m                          Traceback (most recent call last)",
      "\u001B[36mCell\u001B[39m\u001B[36m \u001B[39m\u001B[32mIn[46]\u001B[39m\u001B[32m, line 23\u001B[39m\n\u001B[32m     20\u001B[39m df = pd.read_csv(\u001B[33m\"\u001B[39m\u001B[33mdata/transactions.csv\u001B[39m\u001B[33m\"\u001B[39m)  \u001B[38;5;66;03m# تأكد أن المسار صحيح\u001B[39;00m\n\u001B[32m     22\u001B[39m \u001B[38;5;66;03m# 5. إنشاء Datasource من نوع Pandas\u001B[39;00m\n\u001B[32m---> \u001B[39m\u001B[32m23\u001B[39m ds = \u001B[43mcontext\u001B[49m\u001B[43m.\u001B[49m\u001B[43mdata_sources\u001B[49m\u001B[43m.\u001B[49m\u001B[43madd_pandas\u001B[49m\u001B[43m(\u001B[49m\u001B[43mname\u001B[49m\u001B[43m=\u001B[49m\u001B[33;43m\"\u001B[39;49m\u001B[33;43mmy_pandas_ds\u001B[39;49m\u001B[33;43m\"\u001B[39;49m\u001B[43m)\u001B[49m\n\u001B[32m     25\u001B[39m \u001B[38;5;66;03m# 6. إضافة DataFrameAsset\u001B[39;00m\n\u001B[32m     26\u001B[39m asset = ds.add_dataframe_asset(name=\u001B[33m\"\u001B[39m\u001B[33mtransactions_asset\u001B[39m\u001B[33m\"\u001B[39m)\n",
      "\u001B[36mFile \u001B[39m\u001B[32mc:\\Users\\46722\\Desktop\\python-bank-projekt\\venv311\\Lib\\site-packages\\great_expectations\\datasource\\fluent\\sources.py:477\u001B[39m, in \u001B[36mDataSourceManager.create_add_crud_method.<locals>.add_datasource\u001B[39m\u001B[34m(name_or_datasource, **kwargs)\u001B[39m\n\u001B[32m    475\u001B[39m datasource._data_context = \u001B[38;5;28mself\u001B[39m._data_context\n\u001B[32m    476\u001B[39m datasource.test_connection()\n\u001B[32m--> \u001B[39m\u001B[32m477\u001B[39m datasource = \u001B[38;5;28;43mself\u001B[39;49m\u001B[43m.\u001B[49m\u001B[43m_data_context\u001B[49m\u001B[43m.\u001B[49m\u001B[43m_add_fluent_datasource\u001B[49m\u001B[43m(\u001B[49m\u001B[43mdatasource\u001B[49m\u001B[43m)\u001B[49m\n\u001B[32m    479\u001B[39m \u001B[38;5;28;01mreturn\u001B[39;00m datasource\n",
      "\u001B[36mFile \u001B[39m\u001B[32mc:\\Users\\46722\\Desktop\\python-bank-projekt\\venv311\\Lib\\site-packages\\great_expectations\\data_context\\data_context\\abstract_data_context.py:593\u001B[39m, in \u001B[36mAbstractDataContext._add_fluent_datasource\u001B[39m\u001B[34m(self, datasource, save_changes, **kwargs)\u001B[39m\n\u001B[32m    591\u001B[39m \u001B[38;5;66;03m# We currently don't allow one to overwrite a datasource with this internal method\u001B[39;00m\n\u001B[32m    592\u001B[39m \u001B[38;5;28;01mif\u001B[39;00m datasource_name \u001B[38;5;129;01min\u001B[39;00m \u001B[38;5;28mself\u001B[39m.data_sources.all():\n\u001B[32m--> \u001B[39m\u001B[32m593\u001B[39m     \u001B[38;5;28;01mraise\u001B[39;00m gx_exceptions.DataContextError(  \u001B[38;5;66;03m# noqa: TRY003 # FIXME CoP\u001B[39;00m\n\u001B[32m    594\u001B[39m         \u001B[33mf\u001B[39m\u001B[33m\"\u001B[39m\u001B[33mCan not write the fluent datasource \u001B[39m\u001B[38;5;132;01m{\u001B[39;00mdatasource_name\u001B[38;5;132;01m}\u001B[39;00m\u001B[33m because a datasource of that \u001B[39m\u001B[33m\"\u001B[39m  \u001B[38;5;66;03m# noqa: E501 # FIXME CoP\u001B[39;00m\n\u001B[32m    595\u001B[39m         \u001B[33m\"\u001B[39m\u001B[33mname already exists in the data context.\u001B[39m\u001B[33m\"\u001B[39m\n\u001B[32m    596\u001B[39m     )\n\u001B[32m    598\u001B[39m \u001B[38;5;28;01mif\u001B[39;00m \u001B[38;5;129;01mnot\u001B[39;00m datasource:\n\u001B[32m    599\u001B[39m     ds_type = DataSourceManager.type_lookup[kwargs[\u001B[33m\"\u001B[39m\u001B[33mtype\u001B[39m\u001B[33m\"\u001B[39m]]\n",
      "\u001B[31mDataContextError\u001B[39m: Can not write the fluent datasource my_pandas_ds because a datasource of that name already exists in the data context."
     ]
    }
   ],
   "source": "\n"
  },
  {
   "cell_type": "code",
   "execution_count": 47,
   "id": "c63b4889",
   "metadata": {},
   "outputs": [
    {
     "ename": "TypeError",
     "evalue": "'DataSourceManager' object is not subscriptable",
     "output_type": "error",
     "traceback": [
      "\u001B[31m---------------------------------------------------------------------------\u001B[39m",
      "\u001B[31mTypeError\u001B[39m                                 Traceback (most recent call last)",
      "\u001B[36mCell\u001B[39m\u001B[36m \u001B[39m\u001B[32mIn[47]\u001B[39m\u001B[32m, line 2\u001B[39m\n\u001B[32m      1\u001B[39m \u001B[38;5;66;03m# استرجاع الـ datasource الحالي الموجود بالاسم\u001B[39;00m\n\u001B[32m----> \u001B[39m\u001B[32m2\u001B[39m ds = \u001B[43mcontext\u001B[49m\u001B[43m.\u001B[49m\u001B[43mdata_sources\u001B[49m\u001B[43m[\u001B[49m\u001B[33;43m\"\u001B[39;49m\u001B[33;43mmy_pandas_ds\u001B[39;49m\u001B[33;43m\"\u001B[39;49m\u001B[43m]\u001B[49m\n\u001B[32m      4\u001B[39m \u001B[38;5;66;03m# إنشاء Asset جديد\u001B[39;00m\n\u001B[32m      5\u001B[39m asset = ds.add_dataframe_asset(name=\u001B[33m\"\u001B[39m\u001B[33mtransactions_asset\u001B[39m\u001B[33m\"\u001B[39m)\n",
      "\u001B[31mTypeError\u001B[39m: 'DataSourceManager' object is not subscriptable"
     ]
    }
   ],
   "source": "\n"
  },
  {
   "cell_type": "code",
   "execution_count": 48,
   "id": "bb1cb09e",
   "metadata": {},
   "outputs": [
    {
     "name": "stderr",
     "output_type": "stream",
     "text": [
      "c:\\Users\\46722\\Desktop\\python-bank-projekt\\venv311\\Lib\\site-packages\\great_expectations\\datasource\\fluent\\sources.py:644: DeprecationWarning: `delete_pandas` is deprecated as of v0.17.2 and will be removed in v0.19. Please use `.sources.delete` moving forward.\n",
      "  warnings.warn(\n"
     ]
    },
    {
     "ename": "KeyError",
     "evalue": "'my_pandas_ds'",
     "output_type": "error",
     "traceback": [
      "\u001B[31m---------------------------------------------------------------------------\u001B[39m",
      "\u001B[31mKeyError\u001B[39m                                  Traceback (most recent call last)",
      "\u001B[36mCell\u001B[39m\u001B[36m \u001B[39m\u001B[32mIn[48]\u001B[39m\u001B[32m, line 2\u001B[39m\n\u001B[32m      1\u001B[39m \u001B[38;5;66;03m# حذف Datasource الحالي من السياق\u001B[39;00m\n\u001B[32m----> \u001B[39m\u001B[32m2\u001B[39m \u001B[43mcontext\u001B[49m\u001B[43m.\u001B[49m\u001B[43mdata_sources\u001B[49m\u001B[43m.\u001B[49m\u001B[43mdelete_pandas\u001B[49m\u001B[43m(\u001B[49m\u001B[33;43m\"\u001B[39;49m\u001B[33;43mmy_pandas_ds\u001B[39;49m\u001B[33;43m\"\u001B[39;49m\u001B[43m)\u001B[49m\n\u001B[32m      4\u001B[39m \u001B[38;5;66;03m# إنشاء Datasource جديد\u001B[39;00m\n\u001B[32m      5\u001B[39m ds = context.data_sources.add_pandas(name=\u001B[33m\"\u001B[39m\u001B[33mmy_pandas_ds\u001B[39m\u001B[33m\"\u001B[39m)\n",
      "\u001B[36mFile \u001B[39m\u001B[32mc:\\Users\\46722\\Desktop\\python-bank-projekt\\venv311\\Lib\\site-packages\\great_expectations\\datasource\\fluent\\sources.py:596\u001B[39m, in \u001B[36mDataSourceManager.create_delete_crud_method.<locals>.delete_datasource\u001B[39m\u001B[34m(name)\u001B[39m\n\u001B[32m    594\u001B[39m logger.debug(\u001B[33mf\u001B[39m\u001B[33m\"\u001B[39m\u001B[33mDelete \u001B[39m\u001B[38;5;132;01m{\u001B[39;00mdatasource_type\u001B[38;5;132;01m}\u001B[39;00m\u001B[33m with \u001B[39m\u001B[38;5;132;01m{\u001B[39;00mname\u001B[38;5;132;01m}\u001B[39;00m\u001B[33m\"\u001B[39m)\n\u001B[32m    595\u001B[39m \u001B[38;5;28mself\u001B[39m._validate_current_datasource_type(name, datasource_type)\n\u001B[32m--> \u001B[39m\u001B[32m596\u001B[39m \u001B[38;5;28;43mself\u001B[39;49m\u001B[43m.\u001B[49m\u001B[43m_data_context\u001B[49m\u001B[43m.\u001B[49m\u001B[43m_delete_fluent_datasource\u001B[49m\u001B[43m(\u001B[49m\u001B[43mname\u001B[49m\u001B[43m=\u001B[49m\u001B[43mname\u001B[49m\u001B[43m)\u001B[49m\n\u001B[32m    597\u001B[39m \u001B[38;5;28mself\u001B[39m._data_context._save_project_config()\n",
      "\u001B[36mFile \u001B[39m\u001B[32mc:\\Users\\46722\\Desktop\\python-bank-projekt\\venv311\\Lib\\site-packages\\great_expectations\\data_context\\data_context\\abstract_data_context.py:657\u001B[39m, in \u001B[36mAbstractDataContext._delete_fluent_datasource\u001B[39m\u001B[34m(self, name, _call_store)\u001B[39m\n\u001B[32m    655\u001B[39m     logger.info(\u001B[33mf\u001B[39m\u001B[33m\"\u001B[39m\u001B[33mNo Datasource \u001B[39m\u001B[33m'\u001B[39m\u001B[38;5;132;01m{\u001B[39;00mname\u001B[38;5;132;01m}\u001B[39;00m\u001B[33m'\u001B[39m\u001B[33m to delete\u001B[39m\u001B[33m\"\u001B[39m)\n\u001B[32m    656\u001B[39m \u001B[38;5;28mself\u001B[39m.data_sources.all().pop(name, \u001B[38;5;28;01mNone\u001B[39;00m)\n\u001B[32m--> \u001B[39m\u001B[32m657\u001B[39m \u001B[38;5;28;01mdel\u001B[39;00m \u001B[38;5;28;43mself\u001B[39;49m\u001B[43m.\u001B[49m\u001B[43mconfig\u001B[49m\u001B[43m.\u001B[49m\u001B[43mfluent_datasources\u001B[49m\u001B[43m[\u001B[49m\u001B[43mname\u001B[49m\u001B[43m]\u001B[49m\n",
      "\u001B[31mKeyError\u001B[39m: 'my_pandas_ds'"
     ]
    }
   ],
   "source": "\n"
  },
  {
   "cell_type": "code",
   "execution_count": 49,
   "id": "4cc6d393",
   "metadata": {},
   "outputs": [
    {
     "name": "stderr",
     "output_type": "stream",
     "text": [
      "c:\\Users\\46722\\Desktop\\python-bank-projekt\\venv311\\Lib\\site-packages\\great_expectations\\data_context\\data_context\\serializable_data_context.py:159: UserWarning: Warning. An existing `great_expectations.yml` was found here: c:\\Users\\46722\\Desktop\\python-bank-projekt\\gx_project.\n",
      "    - No action was taken.\n",
      "  warnings.warn(message)\n",
      "c:\\Users\\46722\\Desktop\\python-bank-projekt\\venv311\\Lib\\site-packages\\great_expectations\\data_context\\data_context\\serializable_data_context.py:167: UserWarning: Warning. An existing `config_variables.yml` was found here:\n",
      "            c:\\Users\\46722\\Desktop\\python-bank-projekt\\gx_project\\uncommitted. - No action was taken.\n",
      "  warnings.warn(message)\n"
     ]
    },
    {
     "ename": "TypeError",
     "evalue": "'DataSourceManager' object is not subscriptable",
     "output_type": "error",
     "traceback": [
      "\u001B[31m---------------------------------------------------------------------------\u001B[39m",
      "\u001B[31mTypeError\u001B[39m                                 Traceback (most recent call last)",
      "\u001B[36mCell\u001B[39m\u001B[36m \u001B[39m\u001B[32mIn[49]\u001B[39m\u001B[32m, line 10\u001B[39m\n\u001B[32m      7\u001B[39m context = gx.get_context(context_root_dir=\u001B[33m\"\u001B[39m\u001B[33mgx_project\u001B[39m\u001B[33m\"\u001B[39m)\n\u001B[32m      9\u001B[39m \u001B[38;5;66;03m# 3. استدعاء الـ Datasource الموجود\u001B[39;00m\n\u001B[32m---> \u001B[39m\u001B[32m10\u001B[39m ds = \u001B[43mcontext\u001B[49m\u001B[43m.\u001B[49m\u001B[43mdata_sources\u001B[49m\u001B[43m[\u001B[49m\u001B[33;43m\"\u001B[39;49m\u001B[33;43mmy_pandas_ds\u001B[39;49m\u001B[33;43m\"\u001B[39;49m\u001B[43m]\u001B[49m\n\u001B[32m     12\u001B[39m \u001B[38;5;66;03m# 4. إنشاء Asset جديد\u001B[39;00m\n\u001B[32m     13\u001B[39m asset = ds.add_dataframe_asset(name=\u001B[33m\"\u001B[39m\u001B[33mtransactions_asset\u001B[39m\u001B[33m\"\u001B[39m)\n",
      "\u001B[31mTypeError\u001B[39m: 'DataSourceManager' object is not subscriptable"
     ]
    }
   ],
   "source": "\n"
  },
  {
   "cell_type": "code",
   "execution_count": 50,
   "id": "e600908d",
   "metadata": {},
   "outputs": [
    {
     "name": "stderr",
     "output_type": "stream",
     "text": [
      "c:\\Users\\46722\\Desktop\\python-bank-projekt\\venv311\\Lib\\site-packages\\great_expectations\\data_context\\data_context\\serializable_data_context.py:159: UserWarning: Warning. An existing `great_expectations.yml` was found here: c:\\Users\\46722\\Desktop\\python-bank-projekt\\gx_project.\n",
      "    - No action was taken.\n",
      "  warnings.warn(message)\n",
      "c:\\Users\\46722\\Desktop\\python-bank-projekt\\venv311\\Lib\\site-packages\\great_expectations\\data_context\\data_context\\serializable_data_context.py:167: UserWarning: Warning. An existing `config_variables.yml` was found here:\n",
      "            c:\\Users\\46722\\Desktop\\python-bank-projekt\\gx_project\\uncommitted. - No action was taken.\n",
      "  warnings.warn(message)\n",
      "c:\\Users\\46722\\Desktop\\python-bank-projekt\\venv311\\Lib\\site-packages\\great_expectations\\data_context\\data_context\\abstract_data_context.py:914: DeprecationWarning: context.get_datasource is deprecated as of v1.2.0. Please use context.data_sources.get instead\n",
      "  warnings.warn(\n"
     ]
    },
    {
     "ename": "ValueError",
     "evalue": "\"transactions_asset\" already exists (all existing assets are transactions_asset)",
     "output_type": "error",
     "traceback": [
      "\u001B[31m---------------------------------------------------------------------------\u001B[39m",
      "\u001B[31mValueError\u001B[39m                                Traceback (most recent call last)",
      "\u001B[36mCell\u001B[39m\u001B[36m \u001B[39m\u001B[32mIn[50]\u001B[39m\u001B[32m, line 14\u001B[39m\n\u001B[32m     11\u001B[39m ds = context.get_datasource(\u001B[33m\"\u001B[39m\u001B[33mmy_pandas_ds\u001B[39m\u001B[33m\"\u001B[39m)\n\u001B[32m     13\u001B[39m \u001B[38;5;66;03m# 4. إنشاء asset جديد\u001B[39;00m\n\u001B[32m---> \u001B[39m\u001B[32m14\u001B[39m asset = \u001B[43mds\u001B[49m\u001B[43m.\u001B[49m\u001B[43madd_dataframe_asset\u001B[49m\u001B[43m(\u001B[49m\u001B[43mname\u001B[49m\u001B[43m=\u001B[49m\u001B[33;43m\"\u001B[39;49m\u001B[33;43mtransactions_asset\u001B[39;49m\u001B[33;43m\"\u001B[39;49m\u001B[43m)\u001B[49m\n\u001B[32m     16\u001B[39m \u001B[38;5;66;03m# 5. تحميل الـ DataFrame كـ batch\u001B[39;00m\n\u001B[32m     17\u001B[39m batch = asset.get_batch(dataframe=df)\n",
      "\u001B[36mFile \u001B[39m\u001B[32mc:\\Users\\46722\\Desktop\\python-bank-projekt\\venv311\\Lib\\site-packages\\great_expectations\\datasource\\fluent\\pandas_datasource.py:703\u001B[39m, in \u001B[36mPandasDatasource.add_dataframe_asset\u001B[39m\u001B[34m(self, name, batch_metadata)\u001B[39m\n\u001B[32m    689\u001B[39m \u001B[38;5;250m\u001B[39m\u001B[33;03m\"\"\"Adds a Dataframe DataAsset to this PandasDatasource object.\u001B[39;00m\n\u001B[32m    690\u001B[39m \n\u001B[32m    691\u001B[39m \u001B[33;03mArgs:\u001B[39;00m\n\u001B[32m   (...)\u001B[39m\u001B[32m    697\u001B[39m \u001B[33;03m    The DataFrameAsset that has been added to this datasource.\u001B[39;00m\n\u001B[32m    698\u001B[39m \u001B[33;03m\"\"\"\u001B[39;00m  \u001B[38;5;66;03m# noqa: E501 # FIXME CoP\u001B[39;00m\n\u001B[32m    699\u001B[39m asset: DataFrameAsset = DataFrameAsset(\n\u001B[32m    700\u001B[39m     name=name,\n\u001B[32m    701\u001B[39m     batch_metadata=batch_metadata \u001B[38;5;129;01mor\u001B[39;00m {},\n\u001B[32m    702\u001B[39m )\n\u001B[32m--> \u001B[39m\u001B[32m703\u001B[39m \u001B[38;5;28;01mreturn\u001B[39;00m \u001B[38;5;28;43mself\u001B[39;49m\u001B[43m.\u001B[49m\u001B[43m_add_asset\u001B[49m\u001B[43m(\u001B[49m\u001B[43masset\u001B[49m\u001B[43m=\u001B[49m\u001B[43masset\u001B[49m\u001B[43m)\u001B[49m\n",
      "\u001B[36mFile \u001B[39m\u001B[32mc:\\Users\\46722\\Desktop\\python-bank-projekt\\venv311\\Lib\\site-packages\\great_expectations\\datasource\\fluent\\pandas_datasource.py:616\u001B[39m, in \u001B[36m_PandasDatasource._add_asset\u001B[39m\u001B[34m(self, asset, connect_options)\u001B[39m\n\u001B[32m    613\u001B[39m     \u001B[38;5;28;01melif\u001B[39;00m asset_name \u001B[38;5;129;01min\u001B[39;00m asset_names:\n\u001B[32m    614\u001B[39m         \u001B[38;5;28mself\u001B[39m.delete_asset(name=asset_name)\n\u001B[32m--> \u001B[39m\u001B[32m616\u001B[39m \u001B[38;5;28;01mreturn\u001B[39;00m \u001B[38;5;28;43msuper\u001B[39;49m\u001B[43m(\u001B[49m\u001B[43m)\u001B[49m\u001B[43m.\u001B[49m\u001B[43m_add_asset\u001B[49m\u001B[43m(\u001B[49m\u001B[43masset\u001B[49m\u001B[43m=\u001B[49m\u001B[43masset\u001B[49m\u001B[43m,\u001B[49m\u001B[43m \u001B[49m\u001B[43mconnect_options\u001B[49m\u001B[43m=\u001B[49m\u001B[43mconnect_options\u001B[49m\u001B[43m)\u001B[49m\n",
      "\u001B[36mFile \u001B[39m\u001B[32mc:\\Users\\46722\\Desktop\\python-bank-projekt\\venv311\\Lib\\site-packages\\great_expectations\\datasource\\fluent\\interfaces.py:886\u001B[39m, in \u001B[36mDatasource._add_asset\u001B[39m\u001B[34m(self, asset, connect_options)\u001B[39m\n\u001B[32m    884\u001B[39m asset_names: Set[\u001B[38;5;28mstr\u001B[39m] = \u001B[38;5;28mself\u001B[39m.get_asset_names()\n\u001B[32m    885\u001B[39m \u001B[38;5;28;01mif\u001B[39;00m asset.name \u001B[38;5;129;01min\u001B[39;00m asset_names:\n\u001B[32m--> \u001B[39m\u001B[32m886\u001B[39m     \u001B[38;5;28;01mraise\u001B[39;00m \u001B[38;5;167;01mValueError\u001B[39;00m(  \u001B[38;5;66;03m# noqa: TRY003 # FIXME CoP\u001B[39;00m\n\u001B[32m    887\u001B[39m         \u001B[33mf\u001B[39m\u001B[33m'\u001B[39m\u001B[33m\"\u001B[39m\u001B[38;5;132;01m{\u001B[39;00masset.name\u001B[38;5;132;01m}\u001B[39;00m\u001B[33m\"\u001B[39m\u001B[33m already exists (all existing assets are \u001B[39m\u001B[38;5;132;01m{\u001B[39;00m\u001B[33m\"\u001B[39m\u001B[33m, \u001B[39m\u001B[33m\"\u001B[39m.join(asset_names)\u001B[38;5;132;01m}\u001B[39;00m\u001B[33m)\u001B[39m\u001B[33m'\u001B[39m\n\u001B[32m    888\u001B[39m     )\n\u001B[32m    890\u001B[39m \u001B[38;5;28mself\u001B[39m.assets.append(asset)\n\u001B[32m    892\u001B[39m \u001B[38;5;66;03m# if asset was added to a cloud FDS, _update_fluent_datasource will return FDS fetched from cloud,  # noqa: E501 # FIXME CoP\u001B[39;00m\n\u001B[32m    893\u001B[39m \u001B[38;5;66;03m# which will contain the new asset populated with an id\u001B[39;00m\n",
      "\u001B[31mValueError\u001B[39m: \"transactions_asset\" already exists (all existing assets are transactions_asset)"
     ]
    }
   ],
   "source": "\n"
  },
  {
   "cell_type": "code",
   "execution_count": 53,
   "id": "7ca8099c",
   "metadata": {},
   "outputs": [
    {
     "ename": "TypeError",
     "evalue": "DataFrameAsset.build_batch_request() got an unexpected keyword argument 'dataframe'",
     "output_type": "error",
     "traceback": [
      "\u001B[31m---------------------------------------------------------------------------\u001B[39m",
      "\u001B[31mTypeError\u001B[39m                                 Traceback (most recent call last)",
      "\u001B[36mCell\u001B[39m\u001B[36m \u001B[39m\u001B[32mIn[53]\u001B[39m\u001B[32m, line 2\u001B[39m\n\u001B[32m      1\u001B[39m \u001B[38;5;66;03m# ✅ تحميل الـ DataFrame كـ batch بالطريقة الصحيحة\u001B[39;00m\n\u001B[32m----> \u001B[39m\u001B[32m2\u001B[39m batch = \u001B[43masset\u001B[49m\u001B[43m.\u001B[49m\u001B[43mbuild_batch_request\u001B[49m\u001B[43m(\u001B[49m\u001B[43mdataframe\u001B[49m\u001B[43m=\u001B[49m\u001B[43mdf\u001B[49m\u001B[43m)\u001B[49m\n\u001B[32m      4\u001B[39m \u001B[38;5;28mprint\u001B[39m(\u001B[33m\"\u001B[39m\u001B[33m✅ تم تحميل الـ DataFrame بنجاح كـ batch!\u001B[39m\u001B[33m\"\u001B[39m)\n",
      "\u001B[31mTypeError\u001B[39m: DataFrameAsset.build_batch_request() got an unexpected keyword argument 'dataframe'"
     ]
    }
   ],
   "source": "\n"
  },
  {
   "cell_type": "code",
   "execution_count": 54,
   "id": "7d8594a5",
   "metadata": {},
   "outputs": [
    {
     "name": "stderr",
     "output_type": "stream",
     "text": [
      "c:\\Users\\46722\\Desktop\\python-bank-projekt\\venv311\\Lib\\site-packages\\great_expectations\\data_context\\data_context\\serializable_data_context.py:159: UserWarning: Warning. An existing `great_expectations.yml` was found here: c:\\Users\\46722\\Desktop\\python-bank-projekt\\gx_project.\n",
      "    - No action was taken.\n",
      "  warnings.warn(message)\n",
      "c:\\Users\\46722\\Desktop\\python-bank-projekt\\venv311\\Lib\\site-packages\\great_expectations\\data_context\\data_context\\serializable_data_context.py:167: UserWarning: Warning. An existing `config_variables.yml` was found here:\n",
      "            c:\\Users\\46722\\Desktop\\python-bank-projekt\\gx_project\\uncommitted. - No action was taken.\n",
      "  warnings.warn(message)\n",
      "c:\\Users\\46722\\Desktop\\python-bank-projekt\\venv311\\Lib\\site-packages\\great_expectations\\data_context\\data_context\\abstract_data_context.py:914: DeprecationWarning: context.get_datasource is deprecated as of v1.2.0. Please use context.data_sources.get instead\n",
      "  warnings.warn(\n"
     ]
    },
    {
     "ename": "BuildBatchRequestError",
     "evalue": "Bad input to build_batch_request: options must contain exactly 1 key, 'dataframe'.",
     "output_type": "error",
     "traceback": [
      "\u001B[31m---------------------------------------------------------------------------\u001B[39m",
      "\u001B[31mBuildBatchRequestError\u001B[39m                    Traceback (most recent call last)",
      "\u001B[36mCell\u001B[39m\u001B[36m \u001B[39m\u001B[32mIn[54]\u001B[39m\u001B[32m, line 17\u001B[39m\n\u001B[32m     14\u001B[39m asset = ds.get_asset(\u001B[33m\"\u001B[39m\u001B[33mtransactions_asset\u001B[39m\u001B[33m\"\u001B[39m)\n\u001B[32m     16\u001B[39m \u001B[38;5;66;03m# 5. إنشاء Batch Request (بدون تمرير بيانات)\u001B[39;00m\n\u001B[32m---> \u001B[39m\u001B[32m17\u001B[39m batch_request = \u001B[43masset\u001B[49m\u001B[43m.\u001B[49m\u001B[43mbuild_batch_request\u001B[49m\u001B[43m(\u001B[49m\u001B[43m)\u001B[49m\n\u001B[32m     19\u001B[39m \u001B[38;5;66;03m# 6. إنشاء Expectation Suite (إذا لم تكن موجودة مسبقًا)\u001B[39;00m\n\u001B[32m     20\u001B[39m context.add_or_update_expectation_suite(expectation_suite_name=\u001B[33m\"\u001B[39m\u001B[33mtransactions_suite\u001B[39m\u001B[33m\"\u001B[39m)\n",
      "\u001B[36mFile \u001B[39m\u001B[32mc:\\Users\\46722\\Desktop\\python-bank-projekt\\venv311\\Lib\\site-packages\\great_expectations\\datasource\\fluent\\pandas_datasource.py:420\u001B[39m, in \u001B[36mDataFrameAsset.build_batch_request\u001B[39m\u001B[34m(self, options, batch_slice, partitioner)\u001B[39m\n\u001B[32m    414\u001B[39m     \u001B[38;5;28;01mraise\u001B[39;00m BuildBatchRequestError(\n\u001B[32m    415\u001B[39m         message=\u001B[33m\"\u001B[39m\u001B[33mpartitioner is not currently supported  for this DataAsset\u001B[39m\u001B[33m\"\u001B[39m\n\u001B[32m    416\u001B[39m         \u001B[33m\"\u001B[39m\u001B[33mand must be None.\u001B[39m\u001B[33m\"\u001B[39m\n\u001B[32m    417\u001B[39m     )\n\u001B[32m    419\u001B[39m \u001B[38;5;28;01mif\u001B[39;00m \u001B[38;5;129;01mnot\u001B[39;00m (options \u001B[38;5;129;01mis\u001B[39;00m \u001B[38;5;129;01mnot\u001B[39;00m \u001B[38;5;28;01mNone\u001B[39;00m \u001B[38;5;129;01mand\u001B[39;00m \u001B[33m\"\u001B[39m\u001B[33mdataframe\u001B[39m\u001B[33m\"\u001B[39m \u001B[38;5;129;01min\u001B[39;00m options \u001B[38;5;129;01mand\u001B[39;00m \u001B[38;5;28mlen\u001B[39m(options) == \u001B[32m1\u001B[39m):\n\u001B[32m--> \u001B[39m\u001B[32m420\u001B[39m     \u001B[38;5;28;01mraise\u001B[39;00m BuildBatchRequestError(message=\u001B[33m\"\u001B[39m\u001B[33moptions must contain exactly 1 key, \u001B[39m\u001B[33m'\u001B[39m\u001B[33mdataframe\u001B[39m\u001B[33m'\u001B[39m\u001B[33m.\u001B[39m\u001B[33m\"\u001B[39m)\n\u001B[32m    422\u001B[39m \u001B[38;5;28;01mif\u001B[39;00m \u001B[38;5;129;01mnot\u001B[39;00m \u001B[38;5;28misinstance\u001B[39m(options[\u001B[33m\"\u001B[39m\u001B[33mdataframe\u001B[39m\u001B[33m\"\u001B[39m], pd.DataFrame):\n\u001B[32m    423\u001B[39m     \u001B[38;5;28;01mraise\u001B[39;00m BuildBatchRequestError(\n\u001B[32m    424\u001B[39m         message=\u001B[33m\"\u001B[39m\u001B[33mCannot build batch request for dataframe asset without a dataframe\u001B[39m\u001B[33m\"\u001B[39m\n\u001B[32m    425\u001B[39m     )\n",
      "\u001B[31mBuildBatchRequestError\u001B[39m: Bad input to build_batch_request: options must contain exactly 1 key, 'dataframe'."
     ]
    }
   ],
   "source": "\n"
  },
  {
   "cell_type": "code",
   "execution_count": 55,
   "id": "8f407739",
   "metadata": {},
   "outputs": [
    {
     "name": "stderr",
     "output_type": "stream",
     "text": [
      "c:\\Users\\46722\\Desktop\\python-bank-projekt\\venv311\\Lib\\site-packages\\great_expectations\\data_context\\data_context\\serializable_data_context.py:159: UserWarning: Warning. An existing `great_expectations.yml` was found here: c:\\Users\\46722\\Desktop\\python-bank-projekt\\gx_project.\n",
      "    - No action was taken.\n",
      "  warnings.warn(message)\n",
      "c:\\Users\\46722\\Desktop\\python-bank-projekt\\venv311\\Lib\\site-packages\\great_expectations\\data_context\\data_context\\serializable_data_context.py:167: UserWarning: Warning. An existing `config_variables.yml` was found here:\n",
      "            c:\\Users\\46722\\Desktop\\python-bank-projekt\\gx_project\\uncommitted. - No action was taken.\n",
      "  warnings.warn(message)\n",
      "c:\\Users\\46722\\Desktop\\python-bank-projekt\\venv311\\Lib\\site-packages\\great_expectations\\data_context\\data_context\\abstract_data_context.py:914: DeprecationWarning: context.get_datasource is deprecated as of v1.2.0. Please use context.data_sources.get instead\n",
      "  warnings.warn(\n"
     ]
    },
    {
     "ename": "AttributeError",
     "evalue": "'FileDataContext' object has no attribute 'add_or_update_expectation_suite'",
     "output_type": "error",
     "traceback": [
      "\u001B[31m---------------------------------------------------------------------------\u001B[39m",
      "\u001B[31mAttributeError\u001B[39m                            Traceback (most recent call last)",
      "\u001B[36mCell\u001B[39m\u001B[36m \u001B[39m\u001B[32mIn[55]\u001B[39m\u001B[32m, line 20\u001B[39m\n\u001B[32m     17\u001B[39m batch_request = asset.build_batch_request(options={\u001B[33m\"\u001B[39m\u001B[33mdataframe\u001B[39m\u001B[33m\"\u001B[39m: df})\n\u001B[32m     19\u001B[39m \u001B[38;5;66;03m# 6. إنشاء Expectation Suite (إذا لم تكن موجودة)\u001B[39;00m\n\u001B[32m---> \u001B[39m\u001B[32m20\u001B[39m \u001B[43mcontext\u001B[49m\u001B[43m.\u001B[49m\u001B[43madd_or_update_expectation_suite\u001B[49m(expectation_suite_name=\u001B[33m\"\u001B[39m\u001B[33mtransactions_suite\u001B[39m\u001B[33m\"\u001B[39m)\n\u001B[32m     22\u001B[39m \u001B[38;5;66;03m# 7. الحصول على Validator\u001B[39;00m\n\u001B[32m     23\u001B[39m validator = context.get_validator(\n\u001B[32m     24\u001B[39m     batch_request=batch_request,\n\u001B[32m     25\u001B[39m     expectation_suite_name=\u001B[33m\"\u001B[39m\u001B[33mtransactions_suite\u001B[39m\u001B[33m\"\u001B[39m\n\u001B[32m     26\u001B[39m )\n",
      "\u001B[31mAttributeError\u001B[39m: 'FileDataContext' object has no attribute 'add_or_update_expectation_suite'"
     ]
    }
   ],
   "source": "\n"
  },
  {
   "cell_type": "code",
   "execution_count": 60,
   "id": "cb033718",
   "metadata": {},
   "outputs": [
    {
     "name": "stderr",
     "output_type": "stream",
     "text": [
      "c:\\Users\\46722\\Desktop\\python-bank-projekt\\venv311\\Lib\\site-packages\\great_expectations\\data_context\\data_context\\serializable_data_context.py:159: UserWarning: Warning. An existing `great_expectations.yml` was found here: c:\\Users\\46722\\Desktop\\python-bank-projekt\\gx_project.\n",
      "    - No action was taken.\n",
      "  warnings.warn(message)\n",
      "c:\\Users\\46722\\Desktop\\python-bank-projekt\\venv311\\Lib\\site-packages\\great_expectations\\data_context\\data_context\\serializable_data_context.py:167: UserWarning: Warning. An existing `config_variables.yml` was found here:\n",
      "            c:\\Users\\46722\\Desktop\\python-bank-projekt\\gx_project\\uncommitted. - No action was taken.\n",
      "  warnings.warn(message)\n",
      "c:\\Users\\46722\\Desktop\\python-bank-projekt\\venv311\\Lib\\site-packages\\great_expectations\\data_context\\data_context\\abstract_data_context.py:914: DeprecationWarning: context.get_datasource is deprecated as of v1.2.0. Please use context.data_sources.get instead\n",
      "  warnings.warn(\n",
      "c:\\Users\\46722\\Desktop\\python-bank-projekt\\venv311\\Lib\\site-packages\\great_expectations\\expectations\\expectation.py:1450: UserWarning: `result_format` configured at the Validator-level will not be persisted. Please add the configuration to your Checkpoint config or checkpoint_run() method instead.\n",
      "  warnings.warn(\n"
     ]
    },
    {
     "data": {
      "application/vnd.jupyter.widget-view+json": {
       "model_id": "c5de506efe1f4790977c2e9de774f9ae",
       "version_major": 2,
       "version_minor": 0
      },
      "text/plain": [
       "Calculating Metrics:   0%|          | 0/6 [00:00<?, ?it/s]"
      ]
     },
     "metadata": {},
     "output_type": "display_data"
    },
    {
     "name": "stdout",
     "output_type": "stream",
     "text": [
      "✅ تم حفظ التوقعات بنجاح! 🎉\n"
     ]
    }
   ],
   "source": "\n"
  },
  {
   "cell_type": "code",
   "execution_count": 61,
   "id": "84f063bc",
   "metadata": {},
   "outputs": [
    {
     "data": {
      "application/vnd.jupyter.widget-view+json": {
       "model_id": "f5e62fcd30fe41fd9145f673672cc535",
       "version_major": 2,
       "version_minor": 0
      },
      "text/plain": [
       "Calculating Metrics:   0%|          | 0/6 [00:00<?, ?it/s]"
      ]
     },
     "metadata": {},
     "output_type": "display_data"
    },
    {
     "name": "stdout",
     "output_type": "stream",
     "text": [
      "🔍 تم التحقق من البيانات بنجاح!\n",
      "عدد التوقعات التي تم تنفيذها: 1\n"
     ]
    }
   ],
   "source": "\n"
  },
  {
   "cell_type": "code",
   "execution_count": 62,
   "id": "72a9848f",
   "metadata": {},
   "outputs": [
    {
     "name": "stdout",
     "output_type": "stream",
     "text": [
      "📄 افتح التقرير من هنا:\n",
      "file://c:\\Users\\46722\\Desktop\\python-bank-projekt\\gx_project\\uncommitted/data_docs/local_site/index.html\n"
     ]
    }
   ],
   "source": "\n"
  },
  {
   "cell_type": "code",
   "execution_count": 1,
   "id": "21d88ccc",
   "metadata": {},
   "outputs": [
    {
     "name": "stderr",
     "output_type": "stream",
     "text": [
      "c:\\Users\\46722\\Desktop\\python-bank-projekt\\venv311\\Lib\\site-packages\\great_expectations\\data_context\\data_context\\serializable_data_context.py:159: UserWarning: Warning. An existing `great_expectations.yml` was found here: c:\\Users\\46722\\Desktop\\python-bank-projekt\\gx_project.\n",
      "    - No action was taken.\n",
      "  warnings.warn(message)\n",
      "c:\\Users\\46722\\Desktop\\python-bank-projekt\\venv311\\Lib\\site-packages\\great_expectations\\data_context\\data_context\\serializable_data_context.py:167: UserWarning: Warning. An existing `config_variables.yml` was found here:\n",
      "            c:\\Users\\46722\\Desktop\\python-bank-projekt\\gx_project\\uncommitted. - No action was taken.\n",
      "  warnings.warn(message)\n",
      "c:\\Users\\46722\\Desktop\\python-bank-projekt\\venv311\\Lib\\site-packages\\great_expectations\\data_context\\data_context\\abstract_data_context.py:914: DeprecationWarning: context.get_datasource is deprecated as of v1.2.0. Please use context.data_sources.get instead\n",
      "  warnings.warn(\n"
     ]
    },
    {
     "ename": "AttributeError",
     "evalue": "'FileDataContext' object has no attribute 'add_or_update_checkpoint'",
     "output_type": "error",
     "traceback": [
      "\u001B[31m---------------------------------------------------------------------------\u001B[39m",
      "\u001B[31mAttributeError\u001B[39m                            Traceback (most recent call last)",
      "\u001B[36mCell\u001B[39m\u001B[36m \u001B[39m\u001B[32mIn[1]\u001B[39m\u001B[32m, line 32\u001B[39m\n\u001B[32m     18\u001B[39m checkpoint_config = {\n\u001B[32m     19\u001B[39m     \u001B[33m\"\u001B[39m\u001B[33mname\u001B[39m\u001B[33m\"\u001B[39m: \u001B[33m\"\u001B[39m\u001B[33mtransactions_checkpoint\u001B[39m\u001B[33m\"\u001B[39m,\n\u001B[32m     20\u001B[39m     \u001B[33m\"\u001B[39m\u001B[33mconfig_version\u001B[39m\u001B[33m\"\u001B[39m: \u001B[32m1.0\u001B[39m,\n\u001B[32m   (...)\u001B[39m\u001B[32m     28\u001B[39m     ],\n\u001B[32m     29\u001B[39m }\n\u001B[32m     31\u001B[39m \u001B[38;5;66;03m# 6. إضافة Checkpoint للسياق\u001B[39;00m\n\u001B[32m---> \u001B[39m\u001B[32m32\u001B[39m \u001B[43mcontext\u001B[49m\u001B[43m.\u001B[49m\u001B[43madd_or_update_checkpoint\u001B[49m(**checkpoint_config)\n\u001B[32m     34\u001B[39m \u001B[38;5;66;03m# 7. تشغيل الـ Checkpoint\u001B[39;00m\n\u001B[32m     35\u001B[39m results = context.run_checkpoint(checkpoint_name=\u001B[33m\"\u001B[39m\u001B[33mtransactions_checkpoint\u001B[39m\u001B[33m\"\u001B[39m)\n",
      "\u001B[31mAttributeError\u001B[39m: 'FileDataContext' object has no attribute 'add_or_update_checkpoint'"
     ]
    }
   ],
   "source": [
    "import great_expectations as gx\n",
    "\n"
   ]
  },
  {
   "cell_type": "code",
   "execution_count": 5,
   "id": "33f3e428",
   "metadata": {},
   "outputs": [
    {
     "ename": "ImportError",
     "evalue": "cannot import name 'SimpleCheckpoint' from 'great_expectations.checkpoint' (c:\\Users\\46722\\Desktop\\python-bank-projekt\\venv311\\Lib\\site-packages\\great_expectations\\checkpoint\\__init__.py)",
     "output_type": "error",
     "traceback": [
      "\u001B[31m---------------------------------------------------------------------------\u001B[39m",
      "\u001B[31mImportError\u001B[39m                               Traceback (most recent call last)",
      "\u001B[36mCell\u001B[39m\u001B[36m \u001B[39m\u001B[32mIn[5]\u001B[39m\u001B[32m, line 1\u001B[39m\n\u001B[32m----> \u001B[39m\u001B[32m1\u001B[39m \u001B[38;5;28;01mfrom\u001B[39;00m\u001B[38;5;250m \u001B[39m\u001B[34;01mgreat_expectations\u001B[39;00m\u001B[34;01m.\u001B[39;00m\u001B[34;01mcheckpoint\u001B[39;00m\u001B[38;5;250m \u001B[39m\u001B[38;5;28;01mimport\u001B[39;00m SimpleCheckpoint\n\u001B[32m      3\u001B[39m \u001B[38;5;66;03m# إنشاء Checkpoint\u001B[39;00m\n\u001B[32m      4\u001B[39m checkpoint = SimpleCheckpoint(\n\u001B[32m      5\u001B[39m     name=\u001B[33m\"\u001B[39m\u001B[33mtransactions_checkpoint\u001B[39m\u001B[33m\"\u001B[39m,\n\u001B[32m      6\u001B[39m     data_context=context,\n\u001B[32m   (...)\u001B[39m\u001B[32m     12\u001B[39m     ]\n\u001B[32m     13\u001B[39m )\n",
      "\u001B[31mImportError\u001B[39m: cannot import name 'SimpleCheckpoint' from 'great_expectations.checkpoint' (c:\\Users\\46722\\Desktop\\python-bank-projekt\\venv311\\Lib\\site-packages\\great_expectations\\checkpoint\\__init__.py)"
     ]
    }
   ],
   "source": "\n"
  },
  {
   "cell_type": "code",
   "execution_count": 4,
   "id": "230d78e4",
   "metadata": {},
   "outputs": [],
   "source": "\n"
  },
  {
   "cell_type": "code",
   "execution_count": 9,
   "id": "702e49aa",
   "metadata": {},
   "outputs": [],
   "source": "\n"
  },
  {
   "cell_type": "code",
   "execution_count": 22,
   "id": "919cd94e",
   "metadata": {},
   "outputs": [],
   "source": "\n"
  },
  {
   "cell_type": "code",
   "execution_count": 23,
   "id": "b985e7e0",
   "metadata": {},
   "outputs": [],
   "source": "\n"
  },
  {
   "cell_type": "code",
   "execution_count": 24,
   "id": "675aa4fd",
   "metadata": {},
   "outputs": [
    {
     "name": "stderr",
     "output_type": "stream",
     "text": [
      "c:\\Users\\46722\\Desktop\\python-bank-projekt\\venv311\\Lib\\site-packages\\great_expectations\\data_context\\data_context\\serializable_data_context.py:159: UserWarning: Warning. An existing `great_expectations.yml` was found here: c:\\Users\\46722\\Desktop\\python-bank-projekt\\gx_project.\n",
      "    - No action was taken.\n",
      "  warnings.warn(message)\n",
      "c:\\Users\\46722\\Desktop\\python-bank-projekt\\venv311\\Lib\\site-packages\\great_expectations\\data_context\\data_context\\serializable_data_context.py:167: UserWarning: Warning. An existing `config_variables.yml` was found here:\n",
      "            c:\\Users\\46722\\Desktop\\python-bank-projekt\\gx_project\\uncommitted. - No action was taken.\n",
      "  warnings.warn(message)\n"
     ]
    }
   ],
   "source": "\n"
  },
  {
   "metadata": {},
   "cell_type": "markdown",
   "source": "",
   "id": "861cea094e16e6bf"
  },
  {
   "metadata": {},
   "cell_type": "code",
   "outputs": [],
   "execution_count": null,
   "source": "",
   "id": "6e73656403e62ad5"
  },
  {
   "metadata": {},
   "cell_type": "markdown",
   "source": "",
   "id": "5bd5278f3fd77a78"
  }
 ],
 "metadata": {
  "kernelspec": {
   "display_name": "venv311",
   "language": "python",
   "name": "python3"
  },
  "language_info": {
   "codemirror_mode": {
    "name": "ipython",
    "version": 3
   },
   "file_extension": ".py",
   "mimetype": "text/x-python",
   "name": "python",
   "nbconvert_exporter": "python",
   "pygments_lexer": "ipython3",
   "version": "3.11.9"
  }
 },
 "nbformat": 4,
 "nbformat_minor": 5
}
